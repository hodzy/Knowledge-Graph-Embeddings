{
 "cells": [
  {
   "cell_type": "code",
   "execution_count": 2,
   "metadata": {},
   "outputs": [],
   "source": [
    "# # possibly try using multiprocessing (as of now didn't work)\n",
    "# # https://www.youtube.com/results?search_query=concurrency+python\n",
    "# # https://www.realpythonproject.com/how-to-parallelize-for-loops-in-python-and-work-with-shared-dictionaries/\n",
    "\n",
    "# def generate_false_samples(entities_dict, sample, head_or_tail, training_data, index_start_of_relation, allow_shift):\n",
    "#     '''\n",
    "    \n",
    "#     '''\n",
    "# #     running = True\n",
    "#     counter = 0\n",
    "#     head_or_tail = random.randint(0, 1)\n",
    "\n",
    "#     # 1 for head\n",
    "#     if head_or_tail:\n",
    "#         # generate false head entity\n",
    "#         # to break in case our tail entity has a relation with every other entity \n",
    "#         while(True):\n",
    "#             unique = True\n",
    "#             random_entity = random.choice(entities_dict)\n",
    "#             for i in range(index_start_of_relation, len(training_data[index_start_of_relation:])):\n",
    "#                 if random_entity == training_data[i][0] and sample[2] == training_data[i][2]:\n",
    "#                     unique = False\n",
    "#                     running = False\n",
    "#                     break\n",
    "#                 if training_data[i][1] != training_data[index_start_of_relation][1]:\n",
    "#                     running = False\n",
    "#                     break\n",
    "                    \n",
    "#             counter += 1\n",
    "#             if unique or counter == 100:\n",
    "#                 break\n",
    "#         if allow_shift and not unique:\n",
    "#             sample = generate_false_samples(entities_dict, sample, 0, training_data, index_start_of_relation, False)\n",
    "\n",
    "#         elif unique:\n",
    "#             sample.append(random_entity)\n",
    "#             sample.append(sample[2])\n",
    "#         else:\n",
    "#             print(\"mistake\")\n",
    "            \n",
    "#     # 0 for tail\n",
    "#     else:\n",
    "#         # generate false tail entity\n",
    "#         while(True):\n",
    "#             random_entity = random.choice(entities_dict)\n",
    "#             unique = True\n",
    "#             for i in range(index_start_of_relation, len(training_data[index_start_of_relation:])):\n",
    "#                 if sample[0] == training_data[i][0] and random_entity == training_data[i][2]:\n",
    "#                     unique = False\n",
    "#                     running = False\n",
    "#                     break\n",
    "                    \n",
    "#                 if training_data[i][1] != training_data[index_start_of_relation][1]:\n",
    "#                     running = False\n",
    "#                     break\n",
    "#             counter += 1\n",
    "#             if unique or counter == 100:\n",
    "#                 break\n",
    "        \n",
    "#         if allow_shift and not unique:\n",
    "#             sample = generate_false_samples(entities_dict, sample, 1, training_data, index_start_of_relation, False) \n",
    "#         elif unique:\n",
    "#             sample.append(sample[0]) \n",
    "#             sample.append(random_entity)\n",
    "#         else:\n",
    "#             print(\"mistake\")\n",
    "#     return sample"
   ]
  },
  {
   "cell_type": "code",
   "execution_count": 1,
   "metadata": {},
   "outputs": [],
   "source": [
    "import math\n",
    "import torch\n",
    "import pandas as pd\n",
    "from operator import itemgetter\n",
    "import random\n",
    "from pathlib import Path\n",
    "from torch.utils.data import Dataset, DataLoader"
   ]
  },
  {
   "cell_type": "markdown",
   "metadata": {},
   "source": [
    "### VIP: have to test the model with more negative samples (as of now we generate only one -ve sample per +ve)"
   ]
  },
  {
   "cell_type": "code",
   "execution_count": 2,
   "metadata": {},
   "outputs": [],
   "source": [
    "# also maybe use named_tuples to represent the (h,r,t,h',t')\n",
    "\n",
    "# if torch.cuda.is_available():  \n",
    "#   dev = \"cuda:0\" \n",
    "# else:  \n",
    "#   dev = \"cpu\"\n",
    "# convert code to use cuda in the end \n",
    "# https://medium.com/ai%C2%B3-theory-practice-business/use-gpu-in-your-pytorch-code-676a67faed09\n",
    "# torch.cuda.is_available()"
   ]
  },
  {
   "cell_type": "code",
   "execution_count": 95,
   "metadata": {},
   "outputs": [],
   "source": [
    "def generate_false_samples(entities_dict, positive_sample, training_data, index_start_of_relation, num_needed_samples):\n",
    "    counter = 0\n",
    "    generated_samples = []\n",
    "    while len(generated_samples) < num_needed_samples and counter < 30000:\n",
    "        head_or_tail = random.randint(0, 1)\n",
    "        random_entity = random.choice(entities_dict)\n",
    "        counter += 1\n",
    "        \n",
    "        # 1 for head\n",
    "        if(head_or_tail):\n",
    "            negative_sample = [random_entity, positive_sample[2]]    \n",
    "        else:\n",
    "            negative_sample = [positive_sample[0], random_entity]\n",
    "\n",
    "        relation_is_false = is_relation_false(training_data[index_start_of_relation:], negative_sample)\n",
    "        relation_already_generated = is_relation_in_samples(generated_samples, negative_sample)\n",
    "            \n",
    "        if is_relation_false and not(relation_already_generated):\n",
    "            generated_samples.append(negative_sample)\n",
    "    \n",
    "    positive_sample.extend(generated_samples)\n",
    "    return positive_sample\n",
    "        "
   ]
  },
  {
   "cell_type": "code",
   "execution_count": 96,
   "metadata": {},
   "outputs": [],
   "source": [
    "def is_relation_false(training_data, sample):\n",
    "    for i in range(len(training_data)):\n",
    "        unique = True\n",
    "#     for i in range(index_start_of_relation, len(training_data[index_start_of_relation:])):\n",
    "        if sample[0] == training_data[i][0] and sample[1] == training_data[i][2]:\n",
    "            unique = False\n",
    "            break\n",
    "                    \n",
    "        if training_data[i][1] != training_data[0][1]:\n",
    "            break\n",
    "    return unique"
   ]
  },
  {
   "cell_type": "code",
   "execution_count": 69,
   "metadata": {},
   "outputs": [],
   "source": [
    "def is_relation_in_samples(generated_samples, sample_to_test):\n",
    "    generated = False\n",
    "    for sample in generated_samples:\n",
    "        if sample_to_test[0] == sample[0] and sample_to_test[1] == sample[1]:\n",
    "            generated = True\n",
    "    return generated"
   ]
  },
  {
   "cell_type": "code",
   "execution_count": 70,
   "metadata": {},
   "outputs": [],
   "source": [
    "def read_triplets_file(path, header, seperator):\n",
    "    return pd.read_csv(path, header= header, sep=seperator)"
   ]
  },
  {
   "cell_type": "code",
   "execution_count": 71,
   "metadata": {},
   "outputs": [],
   "source": [
    "def read_training_data(path, header, seperator):\n",
    "    '''\n",
    "    returns a list of sorted (according to relation) training instances \n",
    "    '''\n",
    "    data = pd.read_csv(path, header=header, sep=seperator)\n",
    "    training_data = data.values.tolist()\n",
    "# #     print(training_data[0:10])\n",
    "    training_data = sorted(training_data, key=itemgetter(1)) \n",
    "    return training_data"
   ]
  },
  {
   "cell_type": "code",
   "execution_count": 182,
   "metadata": {},
   "outputs": [],
   "source": [
    "# chose the dimension to be d=500\n",
    "def convert_to_dict(text_data):\n",
    "    output_dict = dict()\n",
    "#     torch.split(temp1, 1, dim=1)    \n",
    "    matrix=torch.rand(2000, len(text_data))\n",
    "    vectors = torch.split(matrix, 1, dim=1)\n",
    "    \n",
    "    for i in range(len(text_data)):\n",
    "#         temp = torch.reshape(vectors[i][0], (-1, 1))\n",
    "        output_dict[text_data[i]] = vectors[i]/torch.linalg.vector_norm(vectors[i])\n",
    "        output_dict[text_data[i]].requires_grad=True\n",
    "    return output_dict"
   ]
  },
  {
   "cell_type": "code",
   "execution_count": 165,
   "metadata": {},
   "outputs": [],
   "source": [
    "def false_samples_generated():\n",
    "    extended_data = Path(\"./data/wn18rr/extended_training_data.txt\")\n",
    "    return extended_data.is_file()"
   ]
  },
  {
   "cell_type": "code",
   "execution_count": 166,
   "metadata": {},
   "outputs": [],
   "source": [
    "def encoding_training_data(entity_dict, relation_dict, training_data):\n",
    "    for i in range(len(training_data)):\n",
    "        for j in range(len(training_data[i])):\n",
    "            if j == 1:\n",
    "                training_data[i][j] = relation_dict[training_data[i][j]]\n",
    "            elif j < 3:\n",
    "                training_data[i][j] = entity_dict[training_data[i][j]]\n",
    "            else:\n",
    "                training_data[i][j] = training_data[i][j].strip(\"[]\").split(\",\")\n",
    "                training_data[i][j] = [entity_dict[int(training_data[i][j][0])], entity_dict[int(training_data[i][j][1])]]\n",
    "            \n",
    "#         training_data[i][3] = entity_dict[training_data[i][3]]\n",
    "#         training_data[i][4] = entity_dict[training_data[i][4]]\n",
    "    return training_data"
   ]
  },
  {
   "cell_type": "code",
   "execution_count": 240,
   "metadata": {},
   "outputs": [],
   "source": [
    "def read_extended_training_data(training_data):\n",
    "    for i in range(len(training_data)):\n",
    "        for j in range(3, len(training_data[i])):\n",
    "#             if j == 1:\n",
    "#                 training_data[i][j] = relation_dict[training_data[i][j]]\n",
    "#             elif j < 3:\n",
    "#                 training_data[i][j] = entity_dict[training_data[i][j]]\n",
    "#             else:\n",
    "            training_data[i][j] = training_data[i][j].strip(\"[]\").split(\",\")\n",
    "            training_data[i][j][0] = int(training_data[i][j][0]) \n",
    "            training_data[i][j][1] = int(training_data[i][j][1])\n",
    "#             training_data[i][j] = [entity_dict[int(training_data[i][j][0])], entity_dict[int(training_data[i][j][1])]]\n",
    "            \n",
    "#         training_data[i][3] = entity_dict[training_data[i][3]]\n",
    "#         training_data[i][4] = entity_dict[training_data[i][4]]\n",
    "    return training_data"
   ]
  },
  {
   "cell_type": "code",
   "execution_count": 309,
   "metadata": {},
   "outputs": [],
   "source": [
    "def scoring_function(entities, relations, head, relation, tail):\n",
    "    head_vector = entities[head]\n",
    "    relation_vector = relations[relation]\n",
    "    tail_vector = entities[tail]\n",
    "    score = - torch.linalg.vector_norm(head_vector + relation_vector - tail_vector)\n",
    "    return score"
   ]
  },
  {
   "cell_type": "code",
   "execution_count": null,
   "metadata": {},
   "outputs": [],
   "source": []
  },
  {
   "cell_type": "code",
   "execution_count": 183,
   "metadata": {},
   "outputs": [],
   "source": [
    "entities_temp_list = read_triplets_file('./data/wn18rr/entities.dict', header=None, seperator='\\t')[1]\n",
    "entities = convert_to_dict(entities_temp_list)"
   ]
  },
  {
   "cell_type": "code",
   "execution_count": 184,
   "metadata": {},
   "outputs": [],
   "source": [
    "# len(entities[260881])\n",
    "# entities"
   ]
  },
  {
   "cell_type": "code",
   "execution_count": 185,
   "metadata": {},
   "outputs": [],
   "source": [
    "# entities_temp_list = pd.read_csv('./data/wn18rr/entities.dict', header=None, sep='\\t')[1]\n",
    "# entities_matrix = torch.eye(len(entities_temp_list))\n",
    "# entities_vectors = torch.split(entities_matrix, 1)\n",
    "# entities = dict()\n",
    "# for i in range(len(entities_temp_list)):\n",
    "#     entities[entities_temp_list[i]] = torch.reshape(entities_vectors[i][0], (-1, 1))\n",
    "#     entities[entities_temp_list[i]].requires_grad=True"
   ]
  },
  {
   "cell_type": "code",
   "execution_count": 186,
   "metadata": {},
   "outputs": [],
   "source": [
    "relation_temp_list = read_triplets_file('./data/wn18rr/relations.dict', header=None, seperator='\\t')[1]\n",
    "relations = convert_to_dict(relation_temp_list)\n",
    "# relations"
   ]
  },
  {
   "cell_type": "code",
   "execution_count": 187,
   "metadata": {},
   "outputs": [],
   "source": [
    "# len(relations)"
   ]
  },
  {
   "cell_type": "code",
   "execution_count": 188,
   "metadata": {},
   "outputs": [],
   "source": [
    "# relation_temp_list = pd.read_csv('./data/wn18rr/relations.dict', header=None, sep='\\t')[1]\n",
    "# relation_matrix = torch.eye(len(relation_temp_list))\n",
    "# relation_vectors = torch.split(relation_matrix, 1\n",
    "# relations = dict()\n",
    "# for i in range(len(relation_temp_list)):\n",
    "#     relations[relation_temp_list[i]] = torch.reshape(relation_vectors[i][0], (-1, 1))\n",
    "#     relations[relation_temp_list[i]].requires_grad=True"
   ]
  },
  {
   "cell_type": "code",
   "execution_count": 189,
   "metadata": {},
   "outputs": [
    {
     "ename": "TypeError",
     "evalue": "'DataFrame' object is not callable",
     "output_type": "error",
     "traceback": [
      "\u001b[1;31m---------------------------------------------------------------------------\u001b[0m",
      "\u001b[1;31mTypeError\u001b[0m                                 Traceback (most recent call last)",
      "\u001b[1;32m<ipython-input-189-20b2952a6bcb>\u001b[0m in \u001b[0;36m<module>\u001b[1;34m\u001b[0m\n\u001b[1;32m----> 1\u001b[1;33m \u001b[0mtraining_data\u001b[0m \u001b[1;33m=\u001b[0m \u001b[0mread_training_data\u001b[0m\u001b[1;33m(\u001b[0m\u001b[1;34m'./data/wn18rr/train.txt'\u001b[0m\u001b[1;33m,\u001b[0m \u001b[0mheader\u001b[0m\u001b[1;33m=\u001b[0m\u001b[1;32mNone\u001b[0m\u001b[1;33m,\u001b[0m \u001b[0mseperator\u001b[0m\u001b[1;33m=\u001b[0m\u001b[1;34m'\\t'\u001b[0m\u001b[1;33m)\u001b[0m\u001b[1;33m\u001b[0m\u001b[1;33m\u001b[0m\u001b[0m\n\u001b[0m\u001b[0;32m      2\u001b[0m \u001b[0mtraining_data\u001b[0m\u001b[1;33m[\u001b[0m\u001b[1;36m0\u001b[0m\u001b[1;33m:\u001b[0m\u001b[1;36m10\u001b[0m\u001b[1;33m]\u001b[0m\u001b[1;33m\u001b[0m\u001b[1;33m\u001b[0m\u001b[0m\n",
      "\u001b[1;31mTypeError\u001b[0m: 'DataFrame' object is not callable"
     ]
    }
   ],
   "source": [
    "training_data = read_training_data('./data/wn18rr/train.txt', header=None, seperator='\\t')\n",
    "training_data[0:10]"
   ]
  },
  {
   "cell_type": "code",
   "execution_count": 330,
   "metadata": {},
   "outputs": [
    {
     "name": "stdout",
     "output_type": "stream",
     "text": [
      "found file\n"
     ]
    }
   ],
   "source": [
    "# oprimaly false_samples_count should be 20, so num_needed_samples= 20\n",
    "\n",
    "if false_samples_generated():\n",
    "    print(\"found file\")\n",
    "    read_training_data = pd.read_csv('./data/wn18rr/extended_training_data.txt', header=None, sep='\\t')\n",
    "    training_data = read_training_data.values.tolist()\n",
    "else:\n",
    "    for i  in range(len(training_data)):\n",
    "        print(i)\n",
    "        if not (training_data[i][1] == training_data[i-1][1]):\n",
    "            index_start_of_relation = i\n",
    "            print(\"new index: \", index_start_of_relation)\n",
    "            print(training_data[i][1])\n",
    "            \n",
    "            \n",
    "# def generate_false_samples(entities_dict, positive_sample, training_data, index_start_of_relation, num_needed_samples):\n",
    "        training_data[i] = generate_false_samples(entities_temp_list, \n",
    "                                              training_data[i], \n",
    "                                              training_data, \n",
    "                                              index_start_of_relation,\n",
    "                                              num_needed_samples=10)\n",
    "    \n",
    "    textfile = open(\"./data/wn18rr/extended_training_data.txt\", \"w\")\n",
    "    for row in training_data:\n",
    "        for i in range(len(row)):\n",
    "            if i != len(row)-1:\n",
    "                textfile.write(str(row[i]) + \"\\t\")\n",
    "            else:\n",
    "                textfile.write(str(row[i]))\n",
    "        textfile.write(\"\\n\")\n",
    "    textfile.close()"
   ]
  },
  {
   "cell_type": "code",
   "execution_count": 331,
   "metadata": {},
   "outputs": [
    {
     "name": "stdout",
     "output_type": "stream",
     "text": [
      "0\n"
     ]
    }
   ],
   "source": [
    "# for i  in range(len(training_data)):\n",
    "#     if not training_data[i][1] == training_data[i-1][1]:\n",
    "#         index_start_of_relation = i\n",
    "#         print(\"new index: \", index_start_of_relation)\n",
    "#         print(training_data[i][1])\n",
    "        \n",
    "\n",
    "counter = 0\n",
    "for i in training_data:\n",
    "    if len(i) != 13:\n",
    "        counter +=1\n",
    "#         print(len(i))\n",
    "print(counter)\n",
    "\n",
    "# for sample in training_data[0:10]:\n",
    "#     print(len(sample))\n",
    "# training_data[2]"
   ]
  },
  {
   "cell_type": "code",
   "execution_count": 332,
   "metadata": {},
   "outputs": [],
   "source": [
    "# we get the embeddings for (h, r, t# training_data)\n",
    "# training_data = encoding_training_data(entities, relations, training_data)\n",
    "training_data = read_extended_training_data(training_data)"
   ]
  },
  {
   "cell_type": "code",
   "execution_count": 333,
   "metadata": {},
   "outputs": [
    {
     "name": "stdout",
     "output_type": "stream",
     "text": [
      "[1698271, '_also_see', 1754576, [1698271, 12318378], [1698271, 2623170], [1698271, 1528069], [1698271, 14775995], [1698271, 13912992], [9756195, 1754576], [6118370, 1754576], [1698271, 4620558], [1698271, 12932706], [7747055, 1754576]]\n"
     ]
    }
   ],
   "source": [
    "print(training_data[0])\n",
    "# print(len(training_data[0][0]))\n",
    "# print(len(training_data[0][1]))\n",
    "# print(len(training_data[0][2]))\n",
    "# print(len(training_data[0][3]))\n",
    "# print(len(training_data[0][4]))\n",
    "# training_data[0]\n",
    "\n",
    "# counter = 0\n",
    "# for i in training_data:\n",
    "#     if len(i) != 5:\n",
    "#         counter +=1\n",
    "#         print(len(i))\n",
    "# print(counter)"
   ]
  },
  {
   "cell_type": "code",
   "execution_count": 344,
   "metadata": {},
   "outputs": [],
   "source": [
    "# sample = (h, r, t, h', t')\n",
    "def loss_func(entities, relations, head_batch, relation_batch, tail_batch, false_samples_batch, margin):\n",
    "    result = []\n",
    "    for i in range(len(head_batch)):\n",
    "        print(len(head_batch))\n",
    "#         print(len(relation_batch))\n",
    "#         print(len(tail_batch))\n",
    "        print(len(false_samples_batch))\n",
    "        print(len(false_samples_batch[i]))\n",
    "        print(false_samples_batch[i][0])\n",
    "#         print(len(false_samples_batch[i][1]))\n",
    "        \n",
    "        positive_score = scoring_function(entities, relations, int(head_batch[i]), str(relation_batch[i]), int(tail_batch[i]))\n",
    "        negative_score = [scoring_function(int(false_head), str(relation_batch[i]), int(false_tail)) for [false_head, false_tail] in false_samples_batch[i]]\n",
    "        \n",
    "        temp_loss = [(max(0, margin - positive_score + score) for score in  negative_score)] \n",
    "        result.appnd(sum(temp_loss))\n",
    "#     loss = min(temp_loss)\n",
    "#     index = temp_loss.index(loss)\n",
    "\n",
    "# loss = min(0, max([margin - positive_score + scoring_function(false_head, relation, false_tail) for (false_head, false_tail) in  false_samples]))\n",
    "#         loss = max(0, margin - positive_score + scoring_function(false_head, relation, false_tail)\n",
    "    return min(result)"
   ]
  },
  {
   "cell_type": "code",
   "execution_count": 345,
   "metadata": {},
   "outputs": [
    {
     "name": "stdout",
     "output_type": "stream",
     "text": [
      "50\n",
      "10\n",
      "2\n",
      "tensor([ 1762528,  2432704,  8701161,  1931845, 10242439,  6056923,  5094725,\n",
      "          250181,  1649999,  2962545, 12343306,  5068461,  1770802,   284930,\n",
      "         8860123,  6310237,   240293,   192300, 15004501,  1310660,  2184797,\n",
      "         4598965,   143704,   163779,   996485,  5978159, 14413993,  4220344,\n",
      "         7556872, 10619176,  5276860,  1730799,  1426160,  7081043, 10035809,\n",
      "         9471638,   340989,  2600953,   885569,   713167,  7171940,  4181228,\n",
      "          716130,  9438055, 12987993, 12077505, 11422597,  1781071,   636441,\n",
      "         2852173])\n"
     ]
    },
    {
     "ename": "ValueError",
     "evalue": "too many values to unpack (expected 2)",
     "output_type": "error",
     "traceback": [
      "\u001b[1;31m---------------------------------------------------------------------------\u001b[0m",
      "\u001b[1;31mValueError\u001b[0m                                Traceback (most recent call last)",
      "\u001b[1;32m<ipython-input-345-d0e890dc70cd>\u001b[0m in \u001b[0;36m<module>\u001b[1;34m\u001b[0m\n\u001b[0;32m     28\u001b[0m \u001b[1;33m\u001b[0m\u001b[0m\n\u001b[0;32m     29\u001b[0m \u001b[1;33m\u001b[0m\u001b[0m\n\u001b[1;32m---> 30\u001b[1;33m         \u001b[0ml\u001b[0m \u001b[1;33m=\u001b[0m \u001b[0mloss_func\u001b[0m\u001b[1;33m(\u001b[0m\u001b[0mentities\u001b[0m\u001b[1;33m,\u001b[0m \u001b[0mrelations\u001b[0m\u001b[1;33m,\u001b[0m \u001b[0mhead\u001b[0m\u001b[1;33m,\u001b[0m \u001b[0mrelation\u001b[0m\u001b[1;33m,\u001b[0m \u001b[0mtail\u001b[0m\u001b[1;33m,\u001b[0m \u001b[0mfalse_samples_entites\u001b[0m\u001b[1;33m,\u001b[0m \u001b[0mmargin\u001b[0m\u001b[1;33m=\u001b[0m\u001b[1;36m0.1\u001b[0m\u001b[1;33m)\u001b[0m\u001b[1;33m\u001b[0m\u001b[1;33m\u001b[0m\u001b[0m\n\u001b[0m\u001b[0;32m     31\u001b[0m \u001b[1;33m\u001b[0m\u001b[0m\n\u001b[0;32m     32\u001b[0m         \u001b[0mhead\u001b[0m\u001b[1;33m.\u001b[0m\u001b[0mretain_grad\u001b[0m\u001b[1;33m(\u001b[0m\u001b[1;33m)\u001b[0m\u001b[1;33m\u001b[0m\u001b[1;33m\u001b[0m\u001b[0m\n",
      "\u001b[1;32m<ipython-input-344-e07c4dde1f0d>\u001b[0m in \u001b[0;36mloss_func\u001b[1;34m(entities, relations, head_batch, relation_batch, tail_batch, false_samples_batch, margin)\u001b[0m\n\u001b[0;32m     12\u001b[0m \u001b[1;33m\u001b[0m\u001b[0m\n\u001b[0;32m     13\u001b[0m         \u001b[0mpositive_score\u001b[0m \u001b[1;33m=\u001b[0m \u001b[0mscoring_function\u001b[0m\u001b[1;33m(\u001b[0m\u001b[0mentities\u001b[0m\u001b[1;33m,\u001b[0m \u001b[0mrelations\u001b[0m\u001b[1;33m,\u001b[0m \u001b[0mint\u001b[0m\u001b[1;33m(\u001b[0m\u001b[0mhead_batch\u001b[0m\u001b[1;33m[\u001b[0m\u001b[0mi\u001b[0m\u001b[1;33m]\u001b[0m\u001b[1;33m)\u001b[0m\u001b[1;33m,\u001b[0m \u001b[0mstr\u001b[0m\u001b[1;33m(\u001b[0m\u001b[0mrelation_batch\u001b[0m\u001b[1;33m[\u001b[0m\u001b[0mi\u001b[0m\u001b[1;33m]\u001b[0m\u001b[1;33m)\u001b[0m\u001b[1;33m,\u001b[0m \u001b[0mint\u001b[0m\u001b[1;33m(\u001b[0m\u001b[0mtail_batch\u001b[0m\u001b[1;33m[\u001b[0m\u001b[0mi\u001b[0m\u001b[1;33m]\u001b[0m\u001b[1;33m)\u001b[0m\u001b[1;33m)\u001b[0m\u001b[1;33m\u001b[0m\u001b[1;33m\u001b[0m\u001b[0m\n\u001b[1;32m---> 14\u001b[1;33m         \u001b[0mnegative_score\u001b[0m \u001b[1;33m=\u001b[0m \u001b[1;33m[\u001b[0m\u001b[0mscoring_function\u001b[0m\u001b[1;33m(\u001b[0m\u001b[0mint\u001b[0m\u001b[1;33m(\u001b[0m\u001b[0mfalse_head\u001b[0m\u001b[1;33m)\u001b[0m\u001b[1;33m,\u001b[0m \u001b[0mstr\u001b[0m\u001b[1;33m(\u001b[0m\u001b[0mrelation_batch\u001b[0m\u001b[1;33m[\u001b[0m\u001b[0mi\u001b[0m\u001b[1;33m]\u001b[0m\u001b[1;33m)\u001b[0m\u001b[1;33m,\u001b[0m \u001b[0mint\u001b[0m\u001b[1;33m(\u001b[0m\u001b[0mfalse_tail\u001b[0m\u001b[1;33m)\u001b[0m\u001b[1;33m)\u001b[0m \u001b[1;32mfor\u001b[0m \u001b[1;33m[\u001b[0m\u001b[0mfalse_head\u001b[0m\u001b[1;33m,\u001b[0m \u001b[0mfalse_tail\u001b[0m\u001b[1;33m]\u001b[0m \u001b[1;32min\u001b[0m \u001b[0mfalse_samples_batch\u001b[0m\u001b[1;33m[\u001b[0m\u001b[0mi\u001b[0m\u001b[1;33m]\u001b[0m\u001b[1;33m]\u001b[0m\u001b[1;33m\u001b[0m\u001b[1;33m\u001b[0m\u001b[0m\n\u001b[0m\u001b[0;32m     15\u001b[0m \u001b[1;33m\u001b[0m\u001b[0m\n\u001b[0;32m     16\u001b[0m         \u001b[0mtemp_loss\u001b[0m \u001b[1;33m=\u001b[0m \u001b[1;33m[\u001b[0m\u001b[1;33m(\u001b[0m\u001b[0mmax\u001b[0m\u001b[1;33m(\u001b[0m\u001b[1;36m0\u001b[0m\u001b[1;33m,\u001b[0m \u001b[0mmargin\u001b[0m \u001b[1;33m-\u001b[0m \u001b[0mpositive_score\u001b[0m \u001b[1;33m+\u001b[0m \u001b[0mscore\u001b[0m\u001b[1;33m)\u001b[0m \u001b[1;32mfor\u001b[0m \u001b[0mscore\u001b[0m \u001b[1;32min\u001b[0m  \u001b[0mnegative_score\u001b[0m\u001b[1;33m)\u001b[0m\u001b[1;33m]\u001b[0m\u001b[1;33m\u001b[0m\u001b[1;33m\u001b[0m\u001b[0m\n",
      "\u001b[1;32m<ipython-input-344-e07c4dde1f0d>\u001b[0m in \u001b[0;36m<listcomp>\u001b[1;34m(.0)\u001b[0m\n\u001b[0;32m     12\u001b[0m \u001b[1;33m\u001b[0m\u001b[0m\n\u001b[0;32m     13\u001b[0m         \u001b[0mpositive_score\u001b[0m \u001b[1;33m=\u001b[0m \u001b[0mscoring_function\u001b[0m\u001b[1;33m(\u001b[0m\u001b[0mentities\u001b[0m\u001b[1;33m,\u001b[0m \u001b[0mrelations\u001b[0m\u001b[1;33m,\u001b[0m \u001b[0mint\u001b[0m\u001b[1;33m(\u001b[0m\u001b[0mhead_batch\u001b[0m\u001b[1;33m[\u001b[0m\u001b[0mi\u001b[0m\u001b[1;33m]\u001b[0m\u001b[1;33m)\u001b[0m\u001b[1;33m,\u001b[0m \u001b[0mstr\u001b[0m\u001b[1;33m(\u001b[0m\u001b[0mrelation_batch\u001b[0m\u001b[1;33m[\u001b[0m\u001b[0mi\u001b[0m\u001b[1;33m]\u001b[0m\u001b[1;33m)\u001b[0m\u001b[1;33m,\u001b[0m \u001b[0mint\u001b[0m\u001b[1;33m(\u001b[0m\u001b[0mtail_batch\u001b[0m\u001b[1;33m[\u001b[0m\u001b[0mi\u001b[0m\u001b[1;33m]\u001b[0m\u001b[1;33m)\u001b[0m\u001b[1;33m)\u001b[0m\u001b[1;33m\u001b[0m\u001b[1;33m\u001b[0m\u001b[0m\n\u001b[1;32m---> 14\u001b[1;33m         \u001b[0mnegative_score\u001b[0m \u001b[1;33m=\u001b[0m \u001b[1;33m[\u001b[0m\u001b[0mscoring_function\u001b[0m\u001b[1;33m(\u001b[0m\u001b[0mint\u001b[0m\u001b[1;33m(\u001b[0m\u001b[0mfalse_head\u001b[0m\u001b[1;33m)\u001b[0m\u001b[1;33m,\u001b[0m \u001b[0mstr\u001b[0m\u001b[1;33m(\u001b[0m\u001b[0mrelation_batch\u001b[0m\u001b[1;33m[\u001b[0m\u001b[0mi\u001b[0m\u001b[1;33m]\u001b[0m\u001b[1;33m)\u001b[0m\u001b[1;33m,\u001b[0m \u001b[0mint\u001b[0m\u001b[1;33m(\u001b[0m\u001b[0mfalse_tail\u001b[0m\u001b[1;33m)\u001b[0m\u001b[1;33m)\u001b[0m \u001b[1;32mfor\u001b[0m \u001b[1;33m[\u001b[0m\u001b[0mfalse_head\u001b[0m\u001b[1;33m,\u001b[0m \u001b[0mfalse_tail\u001b[0m\u001b[1;33m]\u001b[0m \u001b[1;32min\u001b[0m \u001b[0mfalse_samples_batch\u001b[0m\u001b[1;33m[\u001b[0m\u001b[0mi\u001b[0m\u001b[1;33m]\u001b[0m\u001b[1;33m]\u001b[0m\u001b[1;33m\u001b[0m\u001b[1;33m\u001b[0m\u001b[0m\n\u001b[0m\u001b[0;32m     15\u001b[0m \u001b[1;33m\u001b[0m\u001b[0m\n\u001b[0;32m     16\u001b[0m         \u001b[0mtemp_loss\u001b[0m \u001b[1;33m=\u001b[0m \u001b[1;33m[\u001b[0m\u001b[1;33m(\u001b[0m\u001b[0mmax\u001b[0m\u001b[1;33m(\u001b[0m\u001b[1;36m0\u001b[0m\u001b[1;33m,\u001b[0m \u001b[0mmargin\u001b[0m \u001b[1;33m-\u001b[0m \u001b[0mpositive_score\u001b[0m \u001b[1;33m+\u001b[0m \u001b[0mscore\u001b[0m\u001b[1;33m)\u001b[0m \u001b[1;32mfor\u001b[0m \u001b[0mscore\u001b[0m \u001b[1;32min\u001b[0m  \u001b[0mnegative_score\u001b[0m\u001b[1;33m)\u001b[0m\u001b[1;33m]\u001b[0m\u001b[1;33m\u001b[0m\u001b[1;33m\u001b[0m\u001b[0m\n",
      "\u001b[1;31mValueError\u001b[0m: too many values to unpack (expected 2)"
     ]
    }
   ],
   "source": [
    "# margin = 1, dimension d = 20000\n",
    "train_loader = DataLoader(dataset=training_data_entities,\n",
    "                          batch_size=50,\n",
    "                          shuffle=True,\n",
    "                          num_workers=0)\n",
    "\n",
    "# Training loop\n",
    "num_epochs = 7\n",
    "total_samples = len(training_data)\n",
    "n_iterations = math.ceil(total_samples/4)\n",
    "# print(total_samples, n_iterations)\n",
    "for epoch in range(num_epochs):\n",
    "    for i, data in enumerate(train_loader):\n",
    "#         print(i)\n",
    "#         print(len(data[1]))\n",
    "        head = data[0]\n",
    "        relation = data[1]\n",
    "        tail = data[2]\n",
    "        false_samples_entites = data[3:]\n",
    "#         false_samples = []\n",
    "#         for i in range(len(false_samples_entites)):\n",
    "#             false_samples.append([[entities[false_head], entities[false_tail]] for [false_head, false_tail] in false_samples_entites[i]])\n",
    "        \n",
    "        # loss\n",
    "#         loss = nn.MarginRankingLoss(margin=0.1)\n",
    "#         output = loss(input1, input2, target)\n",
    "#         output.backward()\n",
    "        \n",
    "        \n",
    "        l = loss_func(entities, relations, head, relation, tail, false_samples_entites, margin=0.1)\n",
    "\n",
    "        head.retain_grad()\n",
    "        relation.retain_grad()\n",
    "        tail.retain_grad()\n",
    "        false_samples[index][0].retain_grad()\n",
    "        false_samples[index][1].retain_grad()\n",
    "\n",
    "        # calculate gradients = backward pass\n",
    "        l.backward()\n",
    "        \n",
    "        \n",
    "        with torch.no_grad():\n",
    "            print()\n",
    "            entities[int(data[0][0])] -= 0.001 * head.grad\n",
    "            relations[str(data[1][0])] -= 0.001 * relation.grad\n",
    "            entities[int(data[2][0])] -= 0.001 * tail.grad\n",
    "            if torch.equal(false_samples_entites[index][0], data[0]): \n",
    "                entities[false_samples_entites[index][1]] -= 0.001 * false_samples[index][1].grad\n",
    "                \n",
    "            elif torch.equal(false_samples_entites[index][1], data[2]):\n",
    "                entities[false_samples_entites[index][0]] -= 0.001 * false_samples[index][0].grad\n",
    "#                 false_samples[index][0] -= 0.001 * false_samples[index][0].grad\n",
    "                \n",
    "            else:\n",
    "                print(\"a7a\")\n",
    "#             head -= 0.001 * head.grad\n",
    "#             relation -= 0.001 * relation.grad\n",
    "#             tail -= 0.001 * tail.grad\n",
    "\n",
    "            # don't forget to zero the gradients\n",
    "       \n",
    "        \n",
    "        entities[data[0]].zero_()\n",
    "        relations[data[1]].zero_()\n",
    "        entities[data[2]].zero_()\n",
    "        entities[false_samples_entites[index][1]].zero_()\n",
    "        entities[false_samples_entites[index][0]].zero_()\n",
    "        \n",
    "        \n",
    "        false_samples[index][0].grad.zero_()\n",
    "        false_samples[index][1].grad.zero_()\n",
    "\n",
    "        \n",
    "        if i%100 == 0:\n",
    "            print(f'Iteration: {i} | Loss {l.item()}')\n"
   ]
  },
  {
   "cell_type": "code",
   "execution_count": 291,
   "metadata": {},
   "outputs": [
    {
     "data": {
      "text/plain": [
       "7914006"
      ]
     },
     "execution_count": 291,
     "metadata": {},
     "output_type": "execute_result"
    }
   ],
   "source": [
    "int(torch.tensor(7914006))"
   ]
  },
  {
   "cell_type": "code",
   "execution_count": null,
   "metadata": {},
   "outputs": [],
   "source": []
  },
  {
   "cell_type": "code",
   "execution_count": 254,
   "metadata": {},
   "outputs": [],
   "source": [
    "# # margin = 1, dimension d = 10000\n",
    "\n",
    "# train_loader = DataLoader(dataset=training_data,\n",
    "#                           batch_size=50,\n",
    "#                           shuffle=True,\n",
    "#                           num_workers=0)\n",
    "\n",
    "# # convert to an iterator and look at one random sample\n",
    "# dataiter = iter(train_loader)\n",
    "# data = dataiter.next()\n",
    "# head, relation, tail, false_head, false_tail = data\n",
    "# # print(head, \"\\n\", relation)\n",
    "\n",
    "# # # Dummy Training loop\n",
    "# num_epochs = 5\n",
    "# total_samples = len(training_data)\n",
    "# n_iterations = math.ceil(total_samples/4)\n",
    "# # print(total_samples, n_iterations)\n",
    "# for epoch in range(num_epochs):\n",
    "# #     for i, (inputs, labels) in enumerate(train_loader):\n",
    "#     for i, (head, relation, tail, false_head, false_tail) in enumerate(train_loader):\n",
    "        \n",
    "#         # here: 178 samples, batch_size = 4, n_iters=178/4=44.5 -> 45 iterations\n",
    "#         # Run your training process\n",
    "# #         print(head.data)\n",
    "#         # loss\n",
    "#         l = loss_func(head, relation, tail, false_head, false_tail, 1)\n",
    "# #         l.retain_grad()\n",
    "#         head.retain_grad()\n",
    "#         relation.retain_grad()\n",
    "#         tail.retain_grad()\n",
    "#         false_head.retain_grad() \n",
    "#         false_tail.retain_grad()\n",
    "#         # calculate gradients = backward pass\n",
    "#         l.backward()\n",
    "        \n",
    "        \n",
    "#         with torch.no_grad():\n",
    "#             head -= 0.1 * head.grad\n",
    "#             relation -= 0.1 * relation.grad\n",
    "#             tail -= 0.1 * tail.grad\n",
    "#             false_head -= 0.1 * false_head.grad\n",
    "#             false_tail -= 0.1 * false_tail.grad\n",
    "            \n",
    "#             # don't forget to zero the gradients\n",
    "       \n",
    "        \n",
    "#         head.grad.zero_()\n",
    "#         relation.grad.zero_()\n",
    "#         tail.grad.zero_()\n",
    "#         false_head.grad.zero_() \n",
    "#         false_tail.grad.zero_() \n",
    "        \n",
    "#         if i%100 == 0:\n",
    "#             print(f'Iteration: {i} | Loss {l.item()}')\n",
    "\n",
    "\n",
    "\n",
    "\n",
    "\n",
    "\n",
    "\n",
    "\n",
    "\n",
    "\n",
    "# results: \n",
    "# Iteration: 0 | Loss 1.0015830993652344\n",
    "# Iteration: 100 | Loss 0.9973239898681641\n",
    "# Iteration: 200 | Loss 0.9993381500244141\n",
    "# Iteration: 300 | Loss 0.9902715682983398\n",
    "# Iteration: 400 | Loss 1.0056066513061523\n",
    "# Iteration: 500 | Loss 0.9979467391967773\n",
    "# Iteration: 600 | Loss 1.0004215240478516\n",
    "# Iteration: 700 | Loss 0.9965410232543945"
   ]
  }
 ],
 "metadata": {
  "kernelspec": {
   "display_name": "Python 3",
   "language": "python",
   "name": "python3"
  },
  "language_info": {
   "codemirror_mode": {
    "name": "ipython",
    "version": 3
   },
   "file_extension": ".py",
   "mimetype": "text/x-python",
   "name": "python",
   "nbconvert_exporter": "python",
   "pygments_lexer": "ipython3",
   "version": "3.7.6"
  }
 },
 "nbformat": 4,
 "nbformat_minor": 4
}
