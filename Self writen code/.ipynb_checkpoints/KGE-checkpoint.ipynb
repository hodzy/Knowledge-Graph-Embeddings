{
 "cells": [
  {
   "cell_type": "code",
   "execution_count": 371,
   "metadata": {},
   "outputs": [],
   "source": [
    "import math\n",
    "import torch\n",
    "import pandas as pd\n",
    "from operator import itemgetter\n",
    "import random\n",
    "from pathlib import Path\n",
    "from torch.utils.data import Dataset, DataLoader"
   ]
  },
  {
   "cell_type": "code",
   "execution_count": 2,
   "metadata": {},
   "outputs": [],
   "source": [
    "# also maybe use named_tuples to represent the (h,r,t,h',t')\n",
    "\n",
    "# convert code to use cuda in the end \n",
    "# https://medium.com/ai%C2%B3-theory-practice-business/use-gpu-in-your-pytorch-code-676a67faed09\n",
    "# torch.cuda.is_available()"
   ]
  },
  {
   "cell_type": "code",
   "execution_count": 397,
   "metadata": {},
   "outputs": [],
   "source": [
    "# possibly try using multiprocessing (as of now didn't work)\n",
    "# https://www.youtube.com/results?search_query=concurrency+python\n",
    "# https://www.realpythonproject.com/how-to-parallelize-for-loops-in-python-and-work-with-shared-dictionaries/\n",
    "\n",
    "def generate_false_samples_fast(entities_dict, sample, head_or_tail, training_data, index_start_of_relation, allow_shift):\n",
    "    '''\n",
    "    \n",
    "    '''\n",
    "    running = True\n",
    "    counter = 0\n",
    "\n",
    "    # 1 for head\n",
    "    if head_or_tail:\n",
    "        # generate false head entity\n",
    "        # to break in case our tail entity has a relation with every other entity \n",
    "        while(running):\n",
    "            unique = True\n",
    "            random_entity = random.choice(entities_dict)\n",
    "            for i in range(index_start_of_relation, len(training_data[index_start_of_relation:])):\n",
    "                if random_entity == training_data[i][0] and sample[2] == training_data[i][2]:\n",
    "                    unique = False\n",
    "                    running = False\n",
    "                    break\n",
    "                if training_data[i][1] != training_data[index_start_of_relation][1]:\n",
    "                    running = False\n",
    "                    break\n",
    "                    \n",
    "            counter += 1\n",
    "            if unique or counter == 100:\n",
    "                break\n",
    "        if allow_shift and not unique:\n",
    "            sample = generate_false_samples_fast(entities_dict, sample, 0, training_data, index_start_of_relation, False)\n",
    "\n",
    "        elif unique:\n",
    "            sample.append(random_entity)\n",
    "            sample.append(sample[2])\n",
    "        else:\n",
    "            print(\"mistake\")\n",
    "            \n",
    "    # 0 for tail\n",
    "    else:\n",
    "        # generate false tail entity\n",
    "        while(running):\n",
    "            random_entity = random.choice(entities_dict)\n",
    "            unique = True\n",
    "            for i in range(index_start_of_relation, len(training_data[index_start_of_relation:])):\n",
    "                if sample[0] == training_data[i][0] and random_entity == training_data[i][2]:\n",
    "                    unique = False\n",
    "                    running = False\n",
    "                    break\n",
    "                    \n",
    "                if training_data[i][1] != training_data[index_start_of_relation][1]:\n",
    "                    running = False\n",
    "                    break\n",
    "            counter += 1\n",
    "            if unique or counter == 100:\n",
    "                break\n",
    "        \n",
    "        if allow_shift and not unique:\n",
    "            sample = generate_false_samples_fast(entities_dict, sample, 1, training_data, index_start_of_relation, False) \n",
    "        elif unique:\n",
    "            sample.append(sample[0]) \n",
    "            sample.append(random_entity)\n",
    "        else:\n",
    "            print(\"mistake\")\n",
    "    return sample"
   ]
  },
  {
   "cell_type": "code",
   "execution_count": 105,
   "metadata": {},
   "outputs": [],
   "source": [
    "def read_triplets_file(path, header, seperator):\n",
    "    return pd.read_csv(path, header= header, sep=seperator)"
   ]
  },
  {
   "cell_type": "code",
   "execution_count": 404,
   "metadata": {},
   "outputs": [],
   "source": [
    "def read_training_data(path, header, seperator):\n",
    "    '''\n",
    "    returns a list of sorted (according to relation) training instances \n",
    "    '''\n",
    "    data = pd.read_csv(path, header=header, sep=seperator)\n",
    "    training_data = data.values.tolist()\n",
    "# #     print(training_data[0:10])\n",
    "    return sorted(training_data, key=itemgetter(1)) "
   ]
  },
  {
   "cell_type": "code",
   "execution_count": 444,
   "metadata": {},
   "outputs": [],
   "source": [
    "# chose the dimension to be d=5000\n",
    "def convert_to_dict(text_data):\n",
    "    output_dict = dict()\n",
    "    torch.split(temp1, 1, dim=1)    \n",
    "    matrix=torch.rand(10000, len(text_data))\n",
    "    vectors = torch.split(matrix, 1, dim=1)\n",
    "    \n",
    "    for i in range(len(text_data)):\n",
    "#         temp = torch.reshape(vectors[i][0], (-1, 1))\n",
    "        output_dict[text_data[i]] = vectors[i]/torch.linalg.vector_norm(vectors[i])\n",
    "        output_dict[text_data[i]].requires_grad=True\n",
    "    return output_dict"
   ]
  },
  {
   "cell_type": "code",
   "execution_count": 126,
   "metadata": {},
   "outputs": [],
   "source": [
    "def false_samples_generated():\n",
    "    extended_data = Path(\"./data/wn18rr/extended_training_data.txt\")\n",
    "    return extended_data.is_file()"
   ]
  },
  {
   "cell_type": "code",
   "execution_count": 241,
   "metadata": {},
   "outputs": [],
   "source": [
    "def encoding_training_data(entity_dict, relation_dict, training_data):\n",
    "    for i in range(len(training_data)):\n",
    "        training_data[i][0] = entity_dict[training_data[i][0]]\n",
    "        training_data[i][1] = relation_dict[training_data[i][1]]\n",
    "        training_data[i][2] = entity_dict[training_data[i][2]]\n",
    "        training_data[i][3] = entity_dict[training_data[i][3]]\n",
    "        training_data[i][4] = entity_dict[training_data[i][4]]\n",
    "    return training_data"
   ]
  },
  {
   "cell_type": "code",
   "execution_count": 349,
   "metadata": {},
   "outputs": [],
   "source": [
    "def scoring_function(head, relation, tail):\n",
    "    score = - torch.linalg.vector_norm(head + relation - tail)\n",
    "    return score"
   ]
  },
  {
   "cell_type": "code",
   "execution_count": 414,
   "metadata": {},
   "outputs": [],
   "source": [
    "# sample = (h, r, t, h', t')\n",
    "def loss_func(head, relation, tail, false_head, false_tail, margin):\n",
    "    loss = max(0, margin - scoring_function(head, relation, tail) + scoring_function(false_head, relation, false_tail))\n",
    "    return loss"
   ]
  },
  {
   "cell_type": "code",
   "execution_count": null,
   "metadata": {},
   "outputs": [],
   "source": []
  },
  {
   "cell_type": "code",
   "execution_count": 446,
   "metadata": {},
   "outputs": [],
   "source": [
    "entities_temp_list = read_triplets_file('./data/wn18rr/entities.dict', header=None, seperator='\\t')[1]\n",
    "entities = convert_to_dict(entities_temp_list)"
   ]
  },
  {
   "cell_type": "code",
   "execution_count": 301,
   "metadata": {},
   "outputs": [],
   "source": [
    "# len(entities[260881])\n",
    "# entities"
   ]
  },
  {
   "cell_type": "code",
   "execution_count": 107,
   "metadata": {},
   "outputs": [],
   "source": [
    "# entities_temp_list = pd.read_csv('./data/wn18rr/entities.dict', header=None, sep='\\t')[1]\n",
    "# entities_matrix = torch.eye(len(entities_temp_list))\n",
    "# entities_vectors = torch.split(entities_matrix, 1)\n",
    "# entities = dict()\n",
    "# for i in range(len(entities_temp_list)):\n",
    "#     entities[entities_temp_list[i]] = torch.reshape(entities_vectors[i][0], (-1, 1))\n",
    "#     entities[entities_temp_list[i]].requires_grad=True"
   ]
  },
  {
   "cell_type": "code",
   "execution_count": 447,
   "metadata": {},
   "outputs": [],
   "source": [
    "relation_temp_list = read_triplets_file('./data/wn18rr/relations.dict', header=None, seperator='\\t')[1]\n",
    "relations = convert_to_dict(relation_temp_list)\n",
    "# relations"
   ]
  },
  {
   "cell_type": "code",
   "execution_count": 401,
   "metadata": {},
   "outputs": [],
   "source": [
    "# len(relations)"
   ]
  },
  {
   "cell_type": "code",
   "execution_count": 402,
   "metadata": {},
   "outputs": [],
   "source": [
    "# relation_temp_list = pd.read_csv('./data/wn18rr/relations.dict', header=None, sep='\\t')[1]\n",
    "# relation_matrix = torch.eye(len(relation_temp_list))\n",
    "# relation_vectors = torch.split(relation_matrix, 1\n",
    "# relations = dict()\n",
    "# for i in range(len(relation_temp_list)):\n",
    "#     relations[relation_temp_list[i]] = torch.reshape(relation_vectors[i][0], (-1, 1))\n",
    "#     relations[relation_temp_list[i]].requires_grad=True"
   ]
  },
  {
   "cell_type": "code",
   "execution_count": 405,
   "metadata": {},
   "outputs": [
    {
     "data": {
      "text/plain": [
       "[[1698271, '_also_see', 1754576],\n",
       " [452512, '_also_see', 1695567],\n",
       " [1718867, '_also_see', 612114],\n",
       " [631391, '_also_see', 1878466],\n",
       " [931555, '_also_see', 604617],\n",
       " [1672607, '_also_see', 485711],\n",
       " [1725712, '_also_see', 1256332],\n",
       " [1835496, '_also_see', 781000],\n",
       " [503982, '_also_see', 889831],\n",
       " [2531422, '_also_see', 1076793]]"
      ]
     },
     "execution_count": 405,
     "metadata": {},
     "output_type": "execute_result"
    }
   ],
   "source": [
    "training_data = read_training_data('./data/wn18rr/train.txt', header=None, seperator='\\t')\n",
    "training_data[0:10]"
   ]
  },
  {
   "cell_type": "code",
   "execution_count": 448,
   "metadata": {},
   "outputs": [
    {
     "name": "stdout",
     "output_type": "stream",
     "text": [
      "found file\n"
     ]
    }
   ],
   "source": [
    "if false_samples_generated():\n",
    "    print(\"found file\")\n",
    "    read_training_data = pd.read_csv('./data/wn18rr/extended_training_data.txt', header=None, sep='\\t')\n",
    "    training_data = read_training_data.values.tolist()\n",
    "else:\n",
    "    for i  in range(len(training_data)):\n",
    "        print(i)\n",
    "        if not training_data[i][1] == training_data[i-1][1]:\n",
    "            index_start_of_relation = i\n",
    "            print(\"new index: \", index_start_of_relation)\n",
    "            print(training_data[i][1])\n",
    "        head_or_tail = random.randint(0, 1)\n",
    "        training_data[i] = generate_false_samples_fast(entities_temp_list, \n",
    "                                              training_data[i], \n",
    "                                              head_or_tail, \n",
    "                                              training_data, \n",
    "                                              index_start_of_relation,\n",
    "                                              True)\n",
    "    \n",
    "    textfile = open(\"./data/wn18rr/extended_training_data.txt\", \"w\")\n",
    "    for row in training_data:\n",
    "        if len(row) == 5:\n",
    "            textfile.write(str(row[0]) + \"\\t\" + str(row[1]) + \"\\t\" + str(row[2]) + \"\\t\" + str(row[3]) +\"\\t\" + str(row[4]) + \"\\n\")\n",
    "        elif len(row) == 3:\n",
    "            textfile.write(str(row[0]) + \"\\t\" + str(row[1]) + \"\\t\" + str(row[2]) + \"\\n\")\n",
    "    textfile.close()"
   ]
  },
  {
   "cell_type": "code",
   "execution_count": 449,
   "metadata": {},
   "outputs": [
    {
     "name": "stdout",
     "output_type": "stream",
     "text": [
      "[1698271, '_also_see', 1754576, 1698271, 9559404]\n"
     ]
    }
   ],
   "source": [
    "# for i  in range(len(temp_training_data)):\n",
    "#     if not temp_training_data[i][1] == temp_training_data[i-1][1]:\n",
    "#         index_start_of_relation = i\n",
    "#         print(\"new index: \", index_start_of_relation)\n",
    "#         print(training_data[i][1])\n",
    "        \n",
    "\n",
    "# counter = 0\n",
    "# for i in training_data:\n",
    "#     if len(i) != 5:\n",
    "#         counter +=1\n",
    "# #         print(len(i))\n",
    "# print(counter)\n",
    "print(training_data[0])"
   ]
  },
  {
   "cell_type": "code",
   "execution_count": 450,
   "metadata": {},
   "outputs": [],
   "source": [
    "# we get the embeddings for (h, r, t# training_data)\n",
    "training_data = encoding_training_data(entities, relations, training_data)"
   ]
  },
  {
   "cell_type": "code",
   "execution_count": 453,
   "metadata": {},
   "outputs": [
    {
     "name": "stdout",
     "output_type": "stream",
     "text": [
      "5\n",
      "10000\n",
      "0\n"
     ]
    }
   ],
   "source": [
    "print(len(training_data[0]))\n",
    "print(len(training_data[0][0]))\n",
    "# print(len(training_data[0][1]))\n",
    "# print(len(training_data[0][2]))\n",
    "# print(len(training_data[0][3]))\n",
    "# print(len(training_data[0][4]))\n",
    "# training_data[0]\n",
    "\n",
    "# counter = 0\n",
    "# for i in training_data:\n",
    "#     if len(i) != 5:\n",
    "#         counter +=1\n",
    "#         print(len(i))\n",
    "# print(counter)"
   ]
  },
  {
   "cell_type": "code",
   "execution_count": 454,
   "metadata": {},
   "outputs": [
    {
     "name": "stdout",
     "output_type": "stream",
     "text": [
      "Iteration: 0 | Loss 0.10448455810546875\n",
      "Iteration: 100 | Loss 0.10194206237792969\n",
      "Iteration: 200 | Loss 0.09884262084960938\n",
      "Iteration: 300 | Loss 0.09511947631835938\n",
      "Iteration: 400 | Loss 0.09577369689941406\n",
      "Iteration: 500 | Loss 0.09390735626220703\n"
     ]
    },
    {
     "ename": "RuntimeError",
     "evalue": "[enforce fail at ..\\c10\\core\\CPUAllocator.cpp:76] data. DefaultCPUAllocator: not enough memory: you tried to allocate 4000000 bytes.",
     "output_type": "error",
     "traceback": [
      "\u001b[1;31m---------------------------------------------------------------------------\u001b[0m",
      "\u001b[1;31mRuntimeError\u001b[0m                              Traceback (most recent call last)",
      "\u001b[1;32m<ipython-input-454-f296f04ed4dd>\u001b[0m in \u001b[0;36m<module>\u001b[1;34m\u001b[0m\n\u001b[0;32m     17\u001b[0m \u001b[1;32mfor\u001b[0m \u001b[0mepoch\u001b[0m \u001b[1;32min\u001b[0m \u001b[0mrange\u001b[0m\u001b[1;33m(\u001b[0m\u001b[0mnum_epochs\u001b[0m\u001b[1;33m)\u001b[0m\u001b[1;33m:\u001b[0m\u001b[1;33m\u001b[0m\u001b[1;33m\u001b[0m\u001b[0m\n\u001b[0;32m     18\u001b[0m \u001b[1;31m#     for i, (inputs, labels) in enumerate(train_loader):\u001b[0m\u001b[1;33m\u001b[0m\u001b[1;33m\u001b[0m\u001b[1;33m\u001b[0m\u001b[0m\n\u001b[1;32m---> 19\u001b[1;33m     \u001b[1;32mfor\u001b[0m \u001b[0mi\u001b[0m\u001b[1;33m,\u001b[0m \u001b[1;33m(\u001b[0m\u001b[0mhead\u001b[0m\u001b[1;33m,\u001b[0m \u001b[0mrelation\u001b[0m\u001b[1;33m,\u001b[0m \u001b[0mtail\u001b[0m\u001b[1;33m,\u001b[0m \u001b[0mfalse_head\u001b[0m\u001b[1;33m,\u001b[0m \u001b[0mfalse_tail\u001b[0m\u001b[1;33m)\u001b[0m \u001b[1;32min\u001b[0m \u001b[0menumerate\u001b[0m\u001b[1;33m(\u001b[0m\u001b[0mtrain_loader\u001b[0m\u001b[1;33m)\u001b[0m\u001b[1;33m:\u001b[0m\u001b[1;33m\u001b[0m\u001b[1;33m\u001b[0m\u001b[0m\n\u001b[0m\u001b[0;32m     20\u001b[0m \u001b[1;33m\u001b[0m\u001b[0m\n\u001b[0;32m     21\u001b[0m         \u001b[1;31m# here: 178 samples, batch_size = 4, n_iters=178/4=44.5 -> 45 iterations\u001b[0m\u001b[1;33m\u001b[0m\u001b[1;33m\u001b[0m\u001b[1;33m\u001b[0m\u001b[0m\n",
      "\u001b[1;32m~\\anaconda3\\lib\\site-packages\\torch\\utils\\data\\dataloader.py\u001b[0m in \u001b[0;36m__next__\u001b[1;34m(self)\u001b[0m\n\u001b[0;32m    519\u001b[0m             \u001b[1;32mif\u001b[0m \u001b[0mself\u001b[0m\u001b[1;33m.\u001b[0m\u001b[0m_sampler_iter\u001b[0m \u001b[1;32mis\u001b[0m \u001b[1;32mNone\u001b[0m\u001b[1;33m:\u001b[0m\u001b[1;33m\u001b[0m\u001b[1;33m\u001b[0m\u001b[0m\n\u001b[0;32m    520\u001b[0m                 \u001b[0mself\u001b[0m\u001b[1;33m.\u001b[0m\u001b[0m_reset\u001b[0m\u001b[1;33m(\u001b[0m\u001b[1;33m)\u001b[0m\u001b[1;33m\u001b[0m\u001b[1;33m\u001b[0m\u001b[0m\n\u001b[1;32m--> 521\u001b[1;33m             \u001b[0mdata\u001b[0m \u001b[1;33m=\u001b[0m \u001b[0mself\u001b[0m\u001b[1;33m.\u001b[0m\u001b[0m_next_data\u001b[0m\u001b[1;33m(\u001b[0m\u001b[1;33m)\u001b[0m\u001b[1;33m\u001b[0m\u001b[1;33m\u001b[0m\u001b[0m\n\u001b[0m\u001b[0;32m    522\u001b[0m             \u001b[0mself\u001b[0m\u001b[1;33m.\u001b[0m\u001b[0m_num_yielded\u001b[0m \u001b[1;33m+=\u001b[0m \u001b[1;36m1\u001b[0m\u001b[1;33m\u001b[0m\u001b[1;33m\u001b[0m\u001b[0m\n\u001b[0;32m    523\u001b[0m             \u001b[1;32mif\u001b[0m \u001b[0mself\u001b[0m\u001b[1;33m.\u001b[0m\u001b[0m_dataset_kind\u001b[0m \u001b[1;33m==\u001b[0m \u001b[0m_DatasetKind\u001b[0m\u001b[1;33m.\u001b[0m\u001b[0mIterable\u001b[0m \u001b[1;32mand\u001b[0m\u001b[0;31m \u001b[0m\u001b[0;31m\\\u001b[0m\u001b[1;33m\u001b[0m\u001b[1;33m\u001b[0m\u001b[0m\n",
      "\u001b[1;32m~\\anaconda3\\lib\\site-packages\\torch\\utils\\data\\dataloader.py\u001b[0m in \u001b[0;36m_next_data\u001b[1;34m(self)\u001b[0m\n\u001b[0;32m    559\u001b[0m     \u001b[1;32mdef\u001b[0m \u001b[0m_next_data\u001b[0m\u001b[1;33m(\u001b[0m\u001b[0mself\u001b[0m\u001b[1;33m)\u001b[0m\u001b[1;33m:\u001b[0m\u001b[1;33m\u001b[0m\u001b[1;33m\u001b[0m\u001b[0m\n\u001b[0;32m    560\u001b[0m         \u001b[0mindex\u001b[0m \u001b[1;33m=\u001b[0m \u001b[0mself\u001b[0m\u001b[1;33m.\u001b[0m\u001b[0m_next_index\u001b[0m\u001b[1;33m(\u001b[0m\u001b[1;33m)\u001b[0m  \u001b[1;31m# may raise StopIteration\u001b[0m\u001b[1;33m\u001b[0m\u001b[1;33m\u001b[0m\u001b[0m\n\u001b[1;32m--> 561\u001b[1;33m         \u001b[0mdata\u001b[0m \u001b[1;33m=\u001b[0m \u001b[0mself\u001b[0m\u001b[1;33m.\u001b[0m\u001b[0m_dataset_fetcher\u001b[0m\u001b[1;33m.\u001b[0m\u001b[0mfetch\u001b[0m\u001b[1;33m(\u001b[0m\u001b[0mindex\u001b[0m\u001b[1;33m)\u001b[0m  \u001b[1;31m# may raise StopIteration\u001b[0m\u001b[1;33m\u001b[0m\u001b[1;33m\u001b[0m\u001b[0m\n\u001b[0m\u001b[0;32m    562\u001b[0m         \u001b[1;32mif\u001b[0m \u001b[0mself\u001b[0m\u001b[1;33m.\u001b[0m\u001b[0m_pin_memory\u001b[0m\u001b[1;33m:\u001b[0m\u001b[1;33m\u001b[0m\u001b[1;33m\u001b[0m\u001b[0m\n\u001b[0;32m    563\u001b[0m             \u001b[0mdata\u001b[0m \u001b[1;33m=\u001b[0m \u001b[0m_utils\u001b[0m\u001b[1;33m.\u001b[0m\u001b[0mpin_memory\u001b[0m\u001b[1;33m.\u001b[0m\u001b[0mpin_memory\u001b[0m\u001b[1;33m(\u001b[0m\u001b[0mdata\u001b[0m\u001b[1;33m)\u001b[0m\u001b[1;33m\u001b[0m\u001b[1;33m\u001b[0m\u001b[0m\n",
      "\u001b[1;32m~\\anaconda3\\lib\\site-packages\\torch\\utils\\data\\_utils\\fetch.py\u001b[0m in \u001b[0;36mfetch\u001b[1;34m(self, possibly_batched_index)\u001b[0m\n\u001b[0;32m     50\u001b[0m         \u001b[1;32melse\u001b[0m\u001b[1;33m:\u001b[0m\u001b[1;33m\u001b[0m\u001b[1;33m\u001b[0m\u001b[0m\n\u001b[0;32m     51\u001b[0m             \u001b[0mdata\u001b[0m \u001b[1;33m=\u001b[0m \u001b[0mself\u001b[0m\u001b[1;33m.\u001b[0m\u001b[0mdataset\u001b[0m\u001b[1;33m[\u001b[0m\u001b[0mpossibly_batched_index\u001b[0m\u001b[1;33m]\u001b[0m\u001b[1;33m\u001b[0m\u001b[1;33m\u001b[0m\u001b[0m\n\u001b[1;32m---> 52\u001b[1;33m         \u001b[1;32mreturn\u001b[0m \u001b[0mself\u001b[0m\u001b[1;33m.\u001b[0m\u001b[0mcollate_fn\u001b[0m\u001b[1;33m(\u001b[0m\u001b[0mdata\u001b[0m\u001b[1;33m)\u001b[0m\u001b[1;33m\u001b[0m\u001b[1;33m\u001b[0m\u001b[0m\n\u001b[0m",
      "\u001b[1;32m~\\anaconda3\\lib\\site-packages\\torch\\utils\\data\\_utils\\collate.py\u001b[0m in \u001b[0;36mdefault_collate\u001b[1;34m(batch)\u001b[0m\n\u001b[0;32m     82\u001b[0m             \u001b[1;32mraise\u001b[0m \u001b[0mRuntimeError\u001b[0m\u001b[1;33m(\u001b[0m\u001b[1;34m'each element in list of batch should be of equal size'\u001b[0m\u001b[1;33m)\u001b[0m\u001b[1;33m\u001b[0m\u001b[1;33m\u001b[0m\u001b[0m\n\u001b[0;32m     83\u001b[0m         \u001b[0mtransposed\u001b[0m \u001b[1;33m=\u001b[0m \u001b[0mzip\u001b[0m\u001b[1;33m(\u001b[0m\u001b[1;33m*\u001b[0m\u001b[0mbatch\u001b[0m\u001b[1;33m)\u001b[0m\u001b[1;33m\u001b[0m\u001b[1;33m\u001b[0m\u001b[0m\n\u001b[1;32m---> 84\u001b[1;33m         \u001b[1;32mreturn\u001b[0m \u001b[1;33m[\u001b[0m\u001b[0mdefault_collate\u001b[0m\u001b[1;33m(\u001b[0m\u001b[0msamples\u001b[0m\u001b[1;33m)\u001b[0m \u001b[1;32mfor\u001b[0m \u001b[0msamples\u001b[0m \u001b[1;32min\u001b[0m \u001b[0mtransposed\u001b[0m\u001b[1;33m]\u001b[0m\u001b[1;33m\u001b[0m\u001b[1;33m\u001b[0m\u001b[0m\n\u001b[0m\u001b[0;32m     85\u001b[0m \u001b[1;33m\u001b[0m\u001b[0m\n\u001b[0;32m     86\u001b[0m     \u001b[1;32mraise\u001b[0m \u001b[0mTypeError\u001b[0m\u001b[1;33m(\u001b[0m\u001b[0mdefault_collate_err_msg_format\u001b[0m\u001b[1;33m.\u001b[0m\u001b[0mformat\u001b[0m\u001b[1;33m(\u001b[0m\u001b[0melem_type\u001b[0m\u001b[1;33m)\u001b[0m\u001b[1;33m)\u001b[0m\u001b[1;33m\u001b[0m\u001b[1;33m\u001b[0m\u001b[0m\n",
      "\u001b[1;32m~\\anaconda3\\lib\\site-packages\\torch\\utils\\data\\_utils\\collate.py\u001b[0m in \u001b[0;36m<listcomp>\u001b[1;34m(.0)\u001b[0m\n\u001b[0;32m     82\u001b[0m             \u001b[1;32mraise\u001b[0m \u001b[0mRuntimeError\u001b[0m\u001b[1;33m(\u001b[0m\u001b[1;34m'each element in list of batch should be of equal size'\u001b[0m\u001b[1;33m)\u001b[0m\u001b[1;33m\u001b[0m\u001b[1;33m\u001b[0m\u001b[0m\n\u001b[0;32m     83\u001b[0m         \u001b[0mtransposed\u001b[0m \u001b[1;33m=\u001b[0m \u001b[0mzip\u001b[0m\u001b[1;33m(\u001b[0m\u001b[1;33m*\u001b[0m\u001b[0mbatch\u001b[0m\u001b[1;33m)\u001b[0m\u001b[1;33m\u001b[0m\u001b[1;33m\u001b[0m\u001b[0m\n\u001b[1;32m---> 84\u001b[1;33m         \u001b[1;32mreturn\u001b[0m \u001b[1;33m[\u001b[0m\u001b[0mdefault_collate\u001b[0m\u001b[1;33m(\u001b[0m\u001b[0msamples\u001b[0m\u001b[1;33m)\u001b[0m \u001b[1;32mfor\u001b[0m \u001b[0msamples\u001b[0m \u001b[1;32min\u001b[0m \u001b[0mtransposed\u001b[0m\u001b[1;33m]\u001b[0m\u001b[1;33m\u001b[0m\u001b[1;33m\u001b[0m\u001b[0m\n\u001b[0m\u001b[0;32m     85\u001b[0m \u001b[1;33m\u001b[0m\u001b[0m\n\u001b[0;32m     86\u001b[0m     \u001b[1;32mraise\u001b[0m \u001b[0mTypeError\u001b[0m\u001b[1;33m(\u001b[0m\u001b[0mdefault_collate_err_msg_format\u001b[0m\u001b[1;33m.\u001b[0m\u001b[0mformat\u001b[0m\u001b[1;33m(\u001b[0m\u001b[0melem_type\u001b[0m\u001b[1;33m)\u001b[0m\u001b[1;33m)\u001b[0m\u001b[1;33m\u001b[0m\u001b[1;33m\u001b[0m\u001b[0m\n",
      "\u001b[1;32m~\\anaconda3\\lib\\site-packages\\torch\\utils\\data\\_utils\\collate.py\u001b[0m in \u001b[0;36mdefault_collate\u001b[1;34m(batch)\u001b[0m\n\u001b[0;32m     54\u001b[0m             \u001b[0mstorage\u001b[0m \u001b[1;33m=\u001b[0m \u001b[0melem\u001b[0m\u001b[1;33m.\u001b[0m\u001b[0mstorage\u001b[0m\u001b[1;33m(\u001b[0m\u001b[1;33m)\u001b[0m\u001b[1;33m.\u001b[0m\u001b[0m_new_shared\u001b[0m\u001b[1;33m(\u001b[0m\u001b[0mnumel\u001b[0m\u001b[1;33m)\u001b[0m\u001b[1;33m\u001b[0m\u001b[1;33m\u001b[0m\u001b[0m\n\u001b[0;32m     55\u001b[0m             \u001b[0mout\u001b[0m \u001b[1;33m=\u001b[0m \u001b[0melem\u001b[0m\u001b[1;33m.\u001b[0m\u001b[0mnew\u001b[0m\u001b[1;33m(\u001b[0m\u001b[0mstorage\u001b[0m\u001b[1;33m)\u001b[0m\u001b[1;33m\u001b[0m\u001b[1;33m\u001b[0m\u001b[0m\n\u001b[1;32m---> 56\u001b[1;33m         \u001b[1;32mreturn\u001b[0m \u001b[0mtorch\u001b[0m\u001b[1;33m.\u001b[0m\u001b[0mstack\u001b[0m\u001b[1;33m(\u001b[0m\u001b[0mbatch\u001b[0m\u001b[1;33m,\u001b[0m \u001b[1;36m0\u001b[0m\u001b[1;33m,\u001b[0m \u001b[0mout\u001b[0m\u001b[1;33m=\u001b[0m\u001b[0mout\u001b[0m\u001b[1;33m)\u001b[0m\u001b[1;33m\u001b[0m\u001b[1;33m\u001b[0m\u001b[0m\n\u001b[0m\u001b[0;32m     57\u001b[0m     \u001b[1;32melif\u001b[0m \u001b[0melem_type\u001b[0m\u001b[1;33m.\u001b[0m\u001b[0m__module__\u001b[0m \u001b[1;33m==\u001b[0m \u001b[1;34m'numpy'\u001b[0m \u001b[1;32mand\u001b[0m \u001b[0melem_type\u001b[0m\u001b[1;33m.\u001b[0m\u001b[0m__name__\u001b[0m \u001b[1;33m!=\u001b[0m \u001b[1;34m'str_'\u001b[0m\u001b[0;31m \u001b[0m\u001b[0;31m\\\u001b[0m\u001b[1;33m\u001b[0m\u001b[1;33m\u001b[0m\u001b[0m\n\u001b[0;32m     58\u001b[0m             \u001b[1;32mand\u001b[0m \u001b[0melem_type\u001b[0m\u001b[1;33m.\u001b[0m\u001b[0m__name__\u001b[0m \u001b[1;33m!=\u001b[0m \u001b[1;34m'string_'\u001b[0m\u001b[1;33m:\u001b[0m\u001b[1;33m\u001b[0m\u001b[1;33m\u001b[0m\u001b[0m\n",
      "\u001b[1;31mRuntimeError\u001b[0m: [enforce fail at ..\\c10\\core\\CPUAllocator.cpp:76] data. DefaultCPUAllocator: not enough memory: you tried to allocate 4000000 bytes."
     ]
    }
   ],
   "source": [
    "train_loader = DataLoader(dataset=training_data,\n",
    "                          batch_size=100,\n",
    "                          shuffle=True,\n",
    "                          num_workers=0)\n",
    "\n",
    "# convert to an iterator and look at one random sample\n",
    "dataiter = iter(train_loader)\n",
    "data = dataiter.next()\n",
    "head, relation, tail, false_head, false_tail = data\n",
    "# print(head, \"\\n\", relation)\n",
    "\n",
    "# # Dummy Training loop\n",
    "num_epochs = 10\n",
    "total_samples = len(training_data)\n",
    "n_iterations = math.ceil(total_samples/4)\n",
    "# print(total_samples, n_iterations)\n",
    "for epoch in range(num_epochs):\n",
    "#     for i, (inputs, labels) in enumerate(train_loader):\n",
    "    for i, (head, relation, tail, false_head, false_tail) in enumerate(train_loader):\n",
    "        \n",
    "        # here: 178 samples, batch_size = 4, n_iters=178/4=44.5 -> 45 iterations\n",
    "        # Run your training process\n",
    "#         print(head.data)\n",
    "        # loss\n",
    "        l = loss_func(head, relation, tail, false_head, false_tail, 0.1)\n",
    "#         l.retain_grad()\n",
    "        head.retain_grad()\n",
    "        relation.retain_grad()\n",
    "        tail.retain_grad()\n",
    "        false_head.retain_grad() \n",
    "        false_tail.retain_grad()\n",
    "        # calculate gradients = backward pass\n",
    "        l.backward()\n",
    "        \n",
    "        \n",
    "        with torch.no_grad():\n",
    "            head -= 0.05 * head.grad\n",
    "            relation -= 0.05 * relation.grad\n",
    "            tail -= 0.05 * tail.grad\n",
    "            false_head -= 0.05 * false_head.grad\n",
    "            false_tail -= 0.05 * false_tail.grad\n",
    "            \n",
    "            # don't forget to zero the gradients\n",
    "       \n",
    "        \n",
    "        head.grad.zero_()\n",
    "        relation.grad.zero_()\n",
    "        tail.grad.zero_()\n",
    "        false_head.grad.zero_() \n",
    "        false_tail.grad.zero_() \n",
    "        \n",
    "        if i%100 == 0:\n",
    "            print(f'Iteration: {i} | Loss {l.item()}')\n"
   ]
  },
  {
   "cell_type": "code",
   "execution_count": null,
   "metadata": {},
   "outputs": [],
   "source": []
  }
 ],
 "metadata": {
  "kernelspec": {
   "display_name": "Python 3",
   "language": "python",
   "name": "python3"
  },
  "language_info": {
   "codemirror_mode": {
    "name": "ipython",
    "version": 3
   },
   "file_extension": ".py",
   "mimetype": "text/x-python",
   "name": "python",
   "nbconvert_exporter": "python",
   "pygments_lexer": "ipython3",
   "version": "3.7.6"
  }
 },
 "nbformat": 4,
 "nbformat_minor": 4
}
