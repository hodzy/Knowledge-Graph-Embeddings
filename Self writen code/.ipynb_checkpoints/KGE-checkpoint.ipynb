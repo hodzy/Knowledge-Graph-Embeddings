{
 "cells": [
  {
   "cell_type": "code",
   "execution_count": 125,
   "metadata": {},
   "outputs": [],
   "source": [
    "import torch\n",
    "import pandas as pd\n",
    "from operator import itemgetter\n",
    "import random\n",
    "from multiprocessing import Process\n",
    "import concurrent.futures\n",
    "from pathlib import Path"
   ]
  },
  {
   "cell_type": "code",
   "execution_count": 2,
   "metadata": {},
   "outputs": [],
   "source": [
    "# convert code to use cuda in the end \n",
    "# https://medium.com/ai%C2%B3-theory-practice-business/use-gpu-in-your-pytorch-code-676a67faed09\n",
    "# torch.cuda.is_available()"
   ]
  },
  {
   "cell_type": "code",
   "execution_count": 200,
   "metadata": {},
   "outputs": [],
   "source": [
    "# possibly try using multiprocessing (as of now didn't work)\n",
    "# https://www.youtube.com/results?search_query=concurrency+python\n",
    "# https://www.realpythonproject.com/how-to-parallelize-for-loops-in-python-and-work-with-shared-dictionaries/\n",
    "\n",
    "def generate_false_samples_fast(entities_dict, sample, head_or_tail, training_data, index_start_of_relation, allow_shift):\n",
    "    '''\n",
    "    \n",
    "    '''\n",
    "    running = True\n",
    "    unique = True\n",
    "    counter = 0\n",
    "\n",
    "    # 0 for head\n",
    "    if head_or_tail:\n",
    "        # generate false head entity\n",
    "        # to break in case our tail entity has a relation with every other entity \n",
    "        while(running):\n",
    "            random_entity = random.choice(entities_dict)\n",
    "            for i in range(index_start_of_relation, len(training_data[index_start_of_relation:])):\n",
    "                if random_entity == training_data[i][0] and sample[2] == training_data[i][2]:\n",
    "                    unique = False\n",
    "                    running = False\n",
    "                    break\n",
    "                if training_data[i][1] != training_data[index_start_of_relation][1]:\n",
    "                    running = False\n",
    "                    break\n",
    "                    \n",
    "            counter += 1\n",
    "            if unique or counter == 100:\n",
    "                break\n",
    "        if not running and allow_shift and not unique:\n",
    "            sample = generate_false_samples_fast(entities_dict, sample, head_or_tail, training_data, index_start_of_relation, False)\n",
    "\n",
    "        if unique or len(sample) == 5:\n",
    "            sample.append(random_entity)\n",
    "            sample.append(sample[2])\n",
    "        else:\n",
    "            print(\"mistake\")\n",
    "            \n",
    "    # 0 for tail\n",
    "    else:\n",
    "        # generate false tail entity\n",
    "        while(running):\n",
    "            random_entity = random.choice(entities_dict)\n",
    "\n",
    "            for i in range(index_start_of_relation, len(training_data[index_start_of_relation:])):\n",
    "                if sample[0] == training_data[i][0] and random_entity == training_data[i][2]:\n",
    "                    unique = False\n",
    "                    running = False\n",
    "                    break\n",
    "                    \n",
    "                if training_data[i][1] != training_data[index_start_of_relation][1]:\n",
    "                    running = False\n",
    "                    break\n",
    "            counter += 1\n",
    "            if unique or counter == 100:\n",
    "                break\n",
    "        \n",
    "        if not running and allow_shift and not unique:\n",
    "            sample = generate_false_samples_fast(entities_dict, sample, head_or_tail, training_data, index_start_of_relation, False)\n",
    "\n",
    "        \n",
    "        if unique or len(sample) == 5:\n",
    "            sample.append(sample[0]) \n",
    "            sample.append(random_entity)\n",
    "        else:\n",
    "            print(\"mistake\")\n",
    "    return sample"
   ]
  },
  {
   "cell_type": "code",
   "execution_count": 105,
   "metadata": {},
   "outputs": [],
   "source": [
    "def read_triplets_file(path, header, seperator):\n",
    "    return pd.read_csv(path, header= header, sep=seperator)"
   ]
  },
  {
   "cell_type": "code",
   "execution_count": 112,
   "metadata": {},
   "outputs": [],
   "source": [
    "def read_training_data(path, header, seperator):\n",
    "    '''\n",
    "    returns a list of sorted (according to relation) training instances \n",
    "    '''\n",
    "    data = read_pandas_file(path, header=None, seperator='\\t')\n",
    "    training_data = data.values.tolist()\n",
    "#     print(training_data[0:10])\n",
    "    return sorted(training_data, key=itemgetter(1))"
   ]
  },
  {
   "cell_type": "code",
   "execution_count": 98,
   "metadata": {},
   "outputs": [],
   "source": [
    "def convert_to_dict(text_data):\n",
    "    output_dict = dict()\n",
    "    # one hot encoding\n",
    "    matrix = torch.eye(len(text_data))\n",
    "    vectors = torch.split(matrix, 1)\n",
    "    \n",
    "    for i in range(len(text_data)):\n",
    "        output_dict[text_data[i]] = torch.reshape(vectors[i][0], (-1, 1))\n",
    "        output_dict[text_data[i]].requires_grad=True\n",
    "    return output_dict"
   ]
  },
  {
   "cell_type": "code",
   "execution_count": 126,
   "metadata": {},
   "outputs": [],
   "source": [
    "def false_samples_generated():\n",
    "    extended_data = Path(\"./data/wn18rr/extended_training_data.txt\")\n",
    "    return extended_data.is_file()"
   ]
  },
  {
   "cell_type": "code",
   "execution_count": 106,
   "metadata": {},
   "outputs": [],
   "source": [
    "entities_temp_list = read_triplets_file('./data/wn18rr/entities.dict', header=None, seperator='\\t')[1]\n",
    "entities = convert_to_dict(entities_temp_list)"
   ]
  },
  {
   "cell_type": "code",
   "execution_count": 107,
   "metadata": {},
   "outputs": [],
   "source": [
    "# entities_temp_list = pd.read_csv('./data/wn18rr/entities.dict', header=None, sep='\\t')[1]\n",
    "# entities_matrix = torch.eye(len(entities_temp_list))\n",
    "# entities_vectors = torch.split(entities_matrix, 1)\n",
    "# entities = dict()\n",
    "# for i in range(len(entities_temp_list)):\n",
    "#     entities[entities_temp_list[i]] = torch.reshape(entities_vectors[i][0], (-1, 1))\n",
    "#     entities[entities_temp_list[i]].requires_grad=True"
   ]
  },
  {
   "cell_type": "code",
   "execution_count": 205,
   "metadata": {},
   "outputs": [],
   "source": [
    "relation_temp_list = read_triplets_file('./data/wn18rr/relations.dict', header=None, seperator='\\t')[1]\n",
    "relations = convert_to_dict(relation_temp_list)\n",
    "# relations"
   ]
  },
  {
   "cell_type": "code",
   "execution_count": 206,
   "metadata": {},
   "outputs": [],
   "source": [
    "# relation_temp_list = pd.read_csv('./data/wn18rr/relations.dict', header=None, sep='\\t')[1]\n",
    "# relation_matrix = torch.eye(len(relation_temp_list))\n",
    "# relation_vectors = torch.split(relation_matrix, 1\n",
    "# relations = dict()\n",
    "# for i in range(len(relation_temp_list)):\n",
    "#     relations[relation_temp_list[i]] = torch.reshape(relation_vectors[i][0], (-1, 1))\n",
    "#     relations[relation_temp_list[i]].requires_grad=True"
   ]
  },
  {
   "cell_type": "code",
   "execution_count": 207,
   "metadata": {},
   "outputs": [
    {
     "data": {
      "text/plain": [
       "[[1698271, '_also_see', 1754576],\n",
       " [452512, '_also_see', 1695567],\n",
       " [1718867, '_also_see', 612114],\n",
       " [631391, '_also_see', 1878466],\n",
       " [931555, '_also_see', 604617],\n",
       " [1672607, '_also_see', 485711],\n",
       " [1725712, '_also_see', 1256332],\n",
       " [1835496, '_also_see', 781000],\n",
       " [503982, '_also_see', 889831],\n",
       " [2531422, '_also_see', 1076793]]"
      ]
     },
     "execution_count": 207,
     "metadata": {},
     "output_type": "execute_result"
    }
   ],
   "source": [
    "temp_training_data = read_training_data('./data/wn18rr/train.txt', header=None, seperator='\\t')\n",
    "temp_training_data[0:10]"
   ]
  },
  {
   "cell_type": "code",
   "execution_count": 208,
   "metadata": {},
   "outputs": [],
   "source": [
    "# temp_training_data = read_pandas_file('./data/wn18rr/train.txt', header=None, seperator='\\t')\n",
    "# training_data = temp_training_data.values.tolist()\n",
    "# print(training_data[0:10], \"\\n\")\n",
    "# training_data = sorted(training_data, key=itemgetter(1))\n",
    "# print(training_data[0:10])"
   ]
  },
  {
   "cell_type": "code",
   "execution_count": 227,
   "metadata": {},
   "outputs": [
    {
     "name": "stdout",
     "output_type": "stream",
     "text": [
      "found file\n"
     ]
    }
   ],
   "source": [
    "if false_samples_generated():\n",
    "    print(\"found file\")\n",
    "    read_training_data = pd.read_csv('./data/wn18rr/extended_training_data.txt', header=None, sep='\\t')\n",
    "    training_data = read_training_data.values.tolist()\n",
    "else:\n",
    "    for i  in range(len(training_data)):\n",
    "        print(i)\n",
    "        if not training_data[i][1] == training_data[i-1][1]:\n",
    "            index_start_of_relation = i\n",
    "            print(\"new index: \", index_start_of_relation)\n",
    "            print(training_data[i][1])\n",
    "        head_or_tail = random.randint(0, 1)\n",
    "        training_data[i] = generate_false_samples_fast(entities_temp_list, \n",
    "                                              training_data[i], \n",
    "                                              head_or_tail, \n",
    "                                              training_data, \n",
    "                                              index_start_of_relation,\n",
    "                                              True)\n",
    "    \n",
    "    textfile = open(\"./data/wn18rr/extended_training_data.txt\", \"w\")\n",
    "    for row in training_data:\n",
    "        if len(row) == 5:\n",
    "            textfile.write(str(row[0]) + \"\\t\" + str(row[1]) + \"\\t\" + str(row[2]) + \"\\t\" + str(row[3]) +\"\\t\" + str(row[4]) + \"\\n\")\n",
    "        elif len(row) == 3:\n",
    "            textfile.write(str(row[0]) + \"\\t\" + str(row[1]) + \"\\t\" + str(row[2]) + \"\\n\")\n",
    "    textfile.close()"
   ]
  },
  {
   "cell_type": "code",
   "execution_count": 229,
   "metadata": {},
   "outputs": [],
   "source": [
    "# training_data"
   ]
  },
  {
   "cell_type": "code",
   "execution_count": 223,
   "metadata": {},
   "outputs": [],
   "source": [
    "# for i  in range(len(temp_training_data)):\n",
    "#     if not temp_training_data[i][1] == temp_training_data[i-1][1]:\n",
    "#         index_start_of_relation = i\n",
    "#         print(\"new index: \", index_start_of_relation)\n",
    "#         print(training_data[i][1])\n",
    "        \n",
    "\n",
    "# counter = 0\n",
    "# for sample in temp_training_data:\n",
    "#     if len(sample) <5:\n",
    "#         counter += 1\n",
    "# print(counter) \n",
    "# print(temp_training_data[0])"
   ]
  },
  {
   "cell_type": "code",
   "execution_count": 230,
   "metadata": {},
   "outputs": [],
   "source": [
    "# we get the embeddings for (h, r, t# training_data)\n",
    "for i in range(len(training_data)):\n",
    "    training_data[i][0] = entities[training_data[i][0]]\n",
    "    training_data[i][1] = relations[training_data[i][1]]\n",
    "    training_data[i][2] = entities[training_data[i][2]]\n",
    "    training_data[i][3] = entities[training_data[i][3]]\n",
    "    training_data[i][4] = entities[training_data[i][4]]\n",
    "\n",
    "# training_data"
   ]
  },
  {
   "cell_type": "code",
   "execution_count": 236,
   "metadata": {},
   "outputs": [
    {
     "name": "stdout",
     "output_type": "stream",
     "text": [
      "5\n",
      "40943\n",
      "11\n",
      "40943\n",
      "40943\n",
      "40943\n"
     ]
    }
   ],
   "source": [
    "# print(len(training_data[0]))\n",
    "# print(len(training_data[0][0]))\n",
    "# print(len(training_data[0][1]))\n",
    "# print(len(training_data[0][2]))\n",
    "# print(len(training_data[0][3]))\n",
    "# print(len(training_data[0][4]))"
   ]
  },
  {
   "cell_type": "code",
   "execution_count": null,
   "metadata": {},
   "outputs": [],
   "source": []
  },
  {
   "cell_type": "code",
   "execution_count": null,
   "metadata": {},
   "outputs": [],
   "source": []
  },
  {
   "cell_type": "code",
   "execution_count": null,
   "metadata": {},
   "outputs": [],
   "source": []
  },
  {
   "cell_type": "code",
   "execution_count": null,
   "metadata": {},
   "outputs": [],
   "source": []
  }
 ],
 "metadata": {
  "kernelspec": {
   "display_name": "Python 3",
   "language": "python",
   "name": "python3"
  },
  "language_info": {
   "codemirror_mode": {
    "name": "ipython",
    "version": 3
   },
   "file_extension": ".py",
   "mimetype": "text/x-python",
   "name": "python",
   "nbconvert_exporter": "python",
   "pygments_lexer": "ipython3",
   "version": "3.7.6"
  }
 },
 "nbformat": 4,
 "nbformat_minor": 4
}
