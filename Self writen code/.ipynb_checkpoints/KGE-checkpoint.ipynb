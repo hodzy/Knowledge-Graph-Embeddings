{
 "cells": [
  {
   "cell_type": "code",
   "execution_count": 2,
   "metadata": {},
   "outputs": [],
   "source": [
    "# # possibly try using multiprocessing (as of now didn't work)\n",
    "# # https://www.youtube.com/results?search_query=concurrency+python\n",
    "# # https://www.realpythonproject.com/how-to-parallelize-for-loops-in-python-and-work-with-shared-dictionaries/\n",
    "\n",
    "# def generate_false_samples(entities_dict, sample, head_or_tail, training_data, index_start_of_relation, allow_shift):\n",
    "#     '''\n",
    "    \n",
    "#     '''\n",
    "# #     running = True\n",
    "#     counter = 0\n",
    "#     head_or_tail = random.randint(0, 1)\n",
    "\n",
    "#     # 1 for head\n",
    "#     if head_or_tail:\n",
    "#         # generate false head entity\n",
    "#         # to break in case our tail entity has a relation with every other entity \n",
    "#         while(True):\n",
    "#             unique = True\n",
    "#             random_entity = random.choice(entities_dict)\n",
    "#             for i in range(index_start_of_relation, len(training_data[index_start_of_relation:])):\n",
    "#                 if random_entity == training_data[i][0] and sample[2] == training_data[i][2]:\n",
    "#                     unique = False\n",
    "#                     running = False\n",
    "#                     break\n",
    "#                 if training_data[i][1] != training_data[index_start_of_relation][1]:\n",
    "#                     running = False\n",
    "#                     break\n",
    "                    \n",
    "#             counter += 1\n",
    "#             if unique or counter == 100:\n",
    "#                 break\n",
    "#         if allow_shift and not unique:\n",
    "#             sample = generate_false_samples(entities_dict, sample, 0, training_data, index_start_of_relation, False)\n",
    "\n",
    "#         elif unique:\n",
    "#             sample.append(random_entity)\n",
    "#             sample.append(sample[2])\n",
    "#         else:\n",
    "#             print(\"mistake\")\n",
    "            \n",
    "#     # 0 for tail\n",
    "#     else:\n",
    "#         # generate false tail entity\n",
    "#         while(True):\n",
    "#             random_entity = random.choice(entities_dict)\n",
    "#             unique = True\n",
    "#             for i in range(index_start_of_relation, len(training_data[index_start_of_relation:])):\n",
    "#                 if sample[0] == training_data[i][0] and random_entity == training_data[i][2]:\n",
    "#                     unique = False\n",
    "#                     running = False\n",
    "#                     break\n",
    "                    \n",
    "#                 if training_data[i][1] != training_data[index_start_of_relation][1]:\n",
    "#                     running = False\n",
    "#                     break\n",
    "#             counter += 1\n",
    "#             if unique or counter == 100:\n",
    "#                 break\n",
    "        \n",
    "#         if allow_shift and not unique:\n",
    "#             sample = generate_false_samples(entities_dict, sample, 1, training_data, index_start_of_relation, False) \n",
    "#         elif unique:\n",
    "#             sample.append(sample[0]) \n",
    "#             sample.append(random_entity)\n",
    "#         else:\n",
    "#             print(\"mistake\")\n",
    "#     return sample"
   ]
  },
  {
   "cell_type": "code",
   "execution_count": 1,
   "metadata": {},
   "outputs": [],
   "source": [
    "import math\n",
    "import torch\n",
    "import pandas as pd\n",
    "from operator import itemgetter\n",
    "import random\n",
    "from pathlib import Path\n",
    "from torch.utils.data import Dataset, DataLoader"
   ]
  },
  {
   "cell_type": "markdown",
   "metadata": {},
   "source": [
    "### VIP: have to test the model with more negative samples (as of now we generate only one -ve sample per +ve)"
   ]
  },
  {
   "cell_type": "code",
   "execution_count": 2,
   "metadata": {},
   "outputs": [],
   "source": [
    "# also maybe use named_tuples to represent the (h,r,t,h',t')\n",
    "\n",
    "# if torch.cuda.is_available():  \n",
    "#   dev = \"cuda:0\" \n",
    "# else:  \n",
    "#   dev = \"cpu\"\n",
    "# convert code to use cuda in the end \n",
    "# https://medium.com/ai%C2%B3-theory-practice-business/use-gpu-in-your-pytorch-code-676a67faed09\n",
    "# torch.cuda.is_available()"
   ]
  },
  {
   "cell_type": "code",
   "execution_count": 95,
   "metadata": {},
   "outputs": [],
   "source": [
    "def generate_false_samples(entities_dict, positive_sample, training_data, index_start_of_relation, num_needed_samples):\n",
    "    counter = 0\n",
    "    generated_samples = []\n",
    "    while len(generated_samples) < num_needed_samples and counter < 30000:\n",
    "        head_or_tail = random.randint(0, 1)\n",
    "        random_entity = random.choice(entities_dict)\n",
    "        counter += 1\n",
    "        \n",
    "        # 1 for head\n",
    "        if(head_or_tail):\n",
    "            negative_sample = [random_entity, positive_sample[2]]    \n",
    "        else:\n",
    "            negative_sample = [positive_sample[0], random_entity]\n",
    "\n",
    "        relation_is_false = is_relation_false(training_data[index_start_of_relation:], negative_sample)\n",
    "        relation_already_generated = is_relation_in_samples(generated_samples, negative_sample)\n",
    "            \n",
    "        if is_relation_false and not(relation_already_generated):\n",
    "            generated_samples.append(negative_sample)\n",
    "    \n",
    "    positive_sample.extend(generated_samples)\n",
    "    return positive_sample\n",
    "        "
   ]
  },
  {
   "cell_type": "code",
   "execution_count": 96,
   "metadata": {},
   "outputs": [],
   "source": [
    "def is_relation_false(training_data, sample):\n",
    "    for i in range(len(training_data)):\n",
    "        unique = True\n",
    "#     for i in range(index_start_of_relation, len(training_data[index_start_of_relation:])):\n",
    "        if sample[0] == training_data[i][0] and sample[1] == training_data[i][2]:\n",
    "            unique = False\n",
    "            break\n",
    "                    \n",
    "        if training_data[i][1] != training_data[0][1]:\n",
    "            break\n",
    "    return unique"
   ]
  },
  {
   "cell_type": "code",
   "execution_count": 69,
   "metadata": {},
   "outputs": [],
   "source": [
    "def is_relation_in_samples(generated_samples, sample_to_test):\n",
    "    generated = False\n",
    "    for sample in generated_samples:\n",
    "        if sample_to_test[0] == sample[0] and sample_to_test[1] == sample[1]:\n",
    "            generated = True\n",
    "    return generated"
   ]
  },
  {
   "cell_type": "code",
   "execution_count": 70,
   "metadata": {},
   "outputs": [],
   "source": [
    "def read_triplets_file(path, header, seperator):\n",
    "    return pd.read_csv(path, header= header, sep=seperator)"
   ]
  },
  {
   "cell_type": "code",
   "execution_count": 71,
   "metadata": {},
   "outputs": [],
   "source": [
    "def read_training_data(path, header, seperator):\n",
    "    '''\n",
    "    returns a list of sorted (according to relation) training instances \n",
    "    '''\n",
    "    data = pd.read_csv(path, header=header, sep=seperator)\n",
    "    training_data = data.values.tolist()\n",
    "# #     print(training_data[0:10])\n",
    "    training_data = sorted(training_data, key=itemgetter(1)) \n",
    "    return training_data"
   ]
  },
  {
   "cell_type": "code",
   "execution_count": 182,
   "metadata": {},
   "outputs": [],
   "source": [
    "# chose the dimension to be d=500\n",
    "def convert_to_dict(text_data):\n",
    "    output_dict = dict()\n",
    "#     torch.split(temp1, 1, dim=1)    \n",
    "    matrix=torch.rand(2000, len(text_data))\n",
    "    vectors = torch.split(matrix, 1, dim=1)\n",
    "    \n",
    "    for i in range(len(text_data)):\n",
    "#         temp = torch.reshape(vectors[i][0], (-1, 1))\n",
    "        output_dict[text_data[i]] = vectors[i]/torch.linalg.vector_norm(vectors[i])\n",
    "        output_dict[text_data[i]].requires_grad=True\n",
    "    return output_dict"
   ]
  },
  {
   "cell_type": "code",
   "execution_count": 165,
   "metadata": {},
   "outputs": [],
   "source": [
    "def false_samples_generated():\n",
    "    extended_data = Path(\"./data/wn18rr/extended_training_data.txt\")\n",
    "    return extended_data.is_file()"
   ]
  },
  {
   "cell_type": "code",
   "execution_count": 166,
   "metadata": {},
   "outputs": [],
   "source": [
    "def encoding_training_data(entity_dict, relation_dict, training_data):\n",
    "    for i in range(len(training_data)):\n",
    "        for j in range(len(training_data[i])):\n",
    "            if j == 1:\n",
    "                training_data[i][j] = relation_dict[training_data[i][j]]\n",
    "            elif j < 3:\n",
    "                training_data[i][j] = entity_dict[training_data[i][j]]\n",
    "            else:\n",
    "                training_data[i][j] = training_data[i][j].strip(\"[]\").split(\",\")\n",
    "                training_data[i][j] = [entity_dict[int(training_data[i][j][0])], entity_dict[int(training_data[i][j][1])]]\n",
    "            \n",
    "#         training_data[i][3] = entity_dict[training_data[i][3]]\n",
    "#         training_data[i][4] = entity_dict[training_data[i][4]]\n",
    "    return training_data"
   ]
  },
  {
   "cell_type": "code",
   "execution_count": 167,
   "metadata": {},
   "outputs": [],
   "source": [
    "def scoring_function(head, relation, tail):\n",
    "    score = - torch.linalg.vector_norm(head + relation - tail)\n",
    "    return score"
   ]
  },
  {
   "cell_type": "code",
   "execution_count": 168,
   "metadata": {},
   "outputs": [],
   "source": [
    "# sample = (h, r, t, h', t')\n",
    "def loss_func(head, relation, tail, false_samples, margin):\n",
    "    \n",
    "    positive_score = scoring_function(head, relation, tail)\n",
    "#     print(len(false_sample))\n",
    "    loss = max(0, max([margin - positive_score + scoring_function(false_head, relation, false_tail) for (false_head, false_tail) in  false_samples]))\n",
    "#         loss = max(0, margin - positive_score + scoring_function(false_head, relation, false_tail)\n",
    "    return loss"
   ]
  },
  {
   "cell_type": "code",
   "execution_count": null,
   "metadata": {},
   "outputs": [],
   "source": []
  },
  {
   "cell_type": "code",
   "execution_count": 183,
   "metadata": {},
   "outputs": [],
   "source": [
    "entities_temp_list = read_triplets_file('./data/wn18rr/entities.dict', header=None, seperator='\\t')[1]\n",
    "entities = convert_to_dict(entities_temp_list)"
   ]
  },
  {
   "cell_type": "code",
   "execution_count": 184,
   "metadata": {},
   "outputs": [],
   "source": [
    "# len(entities[260881])\n",
    "# entities"
   ]
  },
  {
   "cell_type": "code",
   "execution_count": 185,
   "metadata": {},
   "outputs": [],
   "source": [
    "# entities_temp_list = pd.read_csv('./data/wn18rr/entities.dict', header=None, sep='\\t')[1]\n",
    "# entities_matrix = torch.eye(len(entities_temp_list))\n",
    "# entities_vectors = torch.split(entities_matrix, 1)\n",
    "# entities = dict()\n",
    "# for i in range(len(entities_temp_list)):\n",
    "#     entities[entities_temp_list[i]] = torch.reshape(entities_vectors[i][0], (-1, 1))\n",
    "#     entities[entities_temp_list[i]].requires_grad=True"
   ]
  },
  {
   "cell_type": "code",
   "execution_count": 186,
   "metadata": {},
   "outputs": [],
   "source": [
    "relation_temp_list = read_triplets_file('./data/wn18rr/relations.dict', header=None, seperator='\\t')[1]\n",
    "relations = convert_to_dict(relation_temp_list)\n",
    "# relations"
   ]
  },
  {
   "cell_type": "code",
   "execution_count": 187,
   "metadata": {},
   "outputs": [],
   "source": [
    "# len(relations)"
   ]
  },
  {
   "cell_type": "code",
   "execution_count": 188,
   "metadata": {},
   "outputs": [],
   "source": [
    "# relation_temp_list = pd.read_csv('./data/wn18rr/relations.dict', header=None, sep='\\t')[1]\n",
    "# relation_matrix = torch.eye(len(relation_temp_list))\n",
    "# relation_vectors = torch.split(relation_matrix, 1\n",
    "# relations = dict()\n",
    "# for i in range(len(relation_temp_list)):\n",
    "#     relations[relation_temp_list[i]] = torch.reshape(relation_vectors[i][0], (-1, 1))\n",
    "#     relations[relation_temp_list[i]].requires_grad=True"
   ]
  },
  {
   "cell_type": "code",
   "execution_count": 189,
   "metadata": {},
   "outputs": [
    {
     "ename": "TypeError",
     "evalue": "'DataFrame' object is not callable",
     "output_type": "error",
     "traceback": [
      "\u001b[1;31m---------------------------------------------------------------------------\u001b[0m",
      "\u001b[1;31mTypeError\u001b[0m                                 Traceback (most recent call last)",
      "\u001b[1;32m<ipython-input-189-20b2952a6bcb>\u001b[0m in \u001b[0;36m<module>\u001b[1;34m\u001b[0m\n\u001b[1;32m----> 1\u001b[1;33m \u001b[0mtraining_data\u001b[0m \u001b[1;33m=\u001b[0m \u001b[0mread_training_data\u001b[0m\u001b[1;33m(\u001b[0m\u001b[1;34m'./data/wn18rr/train.txt'\u001b[0m\u001b[1;33m,\u001b[0m \u001b[0mheader\u001b[0m\u001b[1;33m=\u001b[0m\u001b[1;32mNone\u001b[0m\u001b[1;33m,\u001b[0m \u001b[0mseperator\u001b[0m\u001b[1;33m=\u001b[0m\u001b[1;34m'\\t'\u001b[0m\u001b[1;33m)\u001b[0m\u001b[1;33m\u001b[0m\u001b[1;33m\u001b[0m\u001b[0m\n\u001b[0m\u001b[0;32m      2\u001b[0m \u001b[0mtraining_data\u001b[0m\u001b[1;33m[\u001b[0m\u001b[1;36m0\u001b[0m\u001b[1;33m:\u001b[0m\u001b[1;36m10\u001b[0m\u001b[1;33m]\u001b[0m\u001b[1;33m\u001b[0m\u001b[1;33m\u001b[0m\u001b[0m\n",
      "\u001b[1;31mTypeError\u001b[0m: 'DataFrame' object is not callable"
     ]
    }
   ],
   "source": [
    "training_data = read_training_data('./data/wn18rr/train.txt', header=None, seperator='\\t')\n",
    "training_data[0:10]"
   ]
  },
  {
   "cell_type": "code",
   "execution_count": 190,
   "metadata": {},
   "outputs": [
    {
     "name": "stdout",
     "output_type": "stream",
     "text": [
      "found file\n"
     ]
    }
   ],
   "source": [
    "# oprimaly false_samples_count should be 20, so num_needed_samples= 20\n",
    "\n",
    "if false_samples_generated():\n",
    "    print(\"found file\")\n",
    "    read_training_data = pd.read_csv('./data/wn18rr/extended_training_data.txt', header=None, sep='\\t')\n",
    "    training_data = read_training_data.values.tolist()\n",
    "else:\n",
    "    for i  in range(len(training_data)):\n",
    "        print(i)\n",
    "        if not (training_data[i][1] == training_data[i-1][1]):\n",
    "            index_start_of_relation = i\n",
    "            print(\"new index: \", index_start_of_relation)\n",
    "            print(training_data[i][1])\n",
    "            \n",
    "            \n",
    "# def generate_false_samples(entities_dict, positive_sample, training_data, index_start_of_relation, num_needed_samples):\n",
    "        training_data[i] = generate_false_samples(entities_temp_list, \n",
    "                                              training_data[i], \n",
    "                                              training_data, \n",
    "                                              index_start_of_relation,\n",
    "                                              num_needed_samples=10)\n",
    "    \n",
    "    textfile = open(\"./data/wn18rr/extended_training_data.txt\", \"w\")\n",
    "    for row in training_data:\n",
    "        for i in range(len(row)):\n",
    "            if i != len(row)-1:\n",
    "                textfile.write(str(row[i]) + \"\\t\")\n",
    "            else:\n",
    "                textfile.write(str(row[i]))\n",
    "        textfile.write(\"\\n\")\n",
    "    textfile.close()"
   ]
  },
  {
   "cell_type": "code",
   "execution_count": 191,
   "metadata": {},
   "outputs": [
    {
     "name": "stdout",
     "output_type": "stream",
     "text": [
      "0\n"
     ]
    }
   ],
   "source": [
    "# for i  in range(len(training_data)):\n",
    "#     if not training_data[i][1] == training_data[i-1][1]:\n",
    "#         index_start_of_relation = i\n",
    "#         print(\"new index: \", index_start_of_relation)\n",
    "#         print(training_data[i][1])\n",
    "        \n",
    "\n",
    "counter = 0\n",
    "for i in training_data:\n",
    "    if len(i) != 13:\n",
    "        counter +=1\n",
    "#         print(len(i))\n",
    "print(counter)\n",
    "\n",
    "# for sample in training_data[0:10]:\n",
    "#     print(len(sample))\n",
    "# training_data[2]"
   ]
  },
  {
   "cell_type": "code",
   "execution_count": 192,
   "metadata": {},
   "outputs": [],
   "source": [
    "# we get the embeddings for (h, r, t# training_data)\n",
    "training_data = encoding_training_data(entities, relations, training_data)"
   ]
  },
  {
   "cell_type": "code",
   "execution_count": 193,
   "metadata": {},
   "outputs": [
    {
     "name": "stdout",
     "output_type": "stream",
     "text": [
      "tensor([[0.0213],\n",
      "        [0.0237],\n",
      "        [0.0359],\n",
      "        ...,\n",
      "        [0.0273],\n",
      "        [0.0110],\n",
      "        [0.0265]], requires_grad=True)\n"
     ]
    }
   ],
   "source": [
    "print(training_data[0][3][0])\n",
    "# print(len(training_data[0][0]))\n",
    "# print(len(training_data[0][1]))\n",
    "# print(len(training_data[0][2]))\n",
    "# print(len(training_data[0][3]))\n",
    "# print(len(training_data[0][4]))\n",
    "# training_data[0]\n",
    "\n",
    "# counter = 0\n",
    "# for i in training_data:\n",
    "#     if len(i) != 5:\n",
    "#         counter +=1\n",
    "#         print(len(i))\n",
    "# print(counter)"
   ]
  },
  {
   "cell_type": "code",
   "execution_count": 194,
   "metadata": {},
   "outputs": [],
   "source": [
    "# # margin = 1, dimension d = 10000\n",
    "\n",
    "# train_loader = DataLoader(dataset=training_data,\n",
    "#                           batch_size=50,\n",
    "#                           shuffle=True,\n",
    "#                           num_workers=0)\n",
    "\n",
    "# # convert to an iterator and look at one random sample\n",
    "# dataiter = iter(train_loader)\n",
    "# data = dataiter.next()\n",
    "# head, relation, tail, false_head, false_tail = data\n",
    "# # print(head, \"\\n\", relation)\n",
    "\n",
    "# # # Dummy Training loop\n",
    "# num_epochs = 5\n",
    "# total_samples = len(training_data)\n",
    "# n_iterations = math.ceil(total_samples/4)\n",
    "# # print(total_samples, n_iterations)\n",
    "# for epoch in range(num_epochs):\n",
    "# #     for i, (inputs, labels) in enumerate(train_loader):\n",
    "#     for i, (head, relation, tail, false_head, false_tail) in enumerate(train_loader):\n",
    "        \n",
    "#         # here: 178 samples, batch_size = 4, n_iters=178/4=44.5 -> 45 iterations\n",
    "#         # Run your training process\n",
    "# #         print(head.data)\n",
    "#         # loss\n",
    "#         l = loss_func(head, relation, tail, false_head, false_tail, 1)\n",
    "# #         l.retain_grad()\n",
    "#         head.retain_grad()\n",
    "#         relation.retain_grad()\n",
    "#         tail.retain_grad()\n",
    "#         false_head.retain_grad() \n",
    "#         false_tail.retain_grad()\n",
    "#         # calculate gradients = backward pass\n",
    "#         l.backward()\n",
    "        \n",
    "        \n",
    "#         with torch.no_grad():\n",
    "#             head -= 0.1 * head.grad\n",
    "#             relation -= 0.1 * relation.grad\n",
    "#             tail -= 0.1 * tail.grad\n",
    "#             false_head -= 0.1 * false_head.grad\n",
    "#             false_tail -= 0.1 * false_tail.grad\n",
    "            \n",
    "#             # don't forget to zero the gradients\n",
    "       \n",
    "        \n",
    "#         head.grad.zero_()\n",
    "#         relation.grad.zero_()\n",
    "#         tail.grad.zero_()\n",
    "#         false_head.grad.zero_() \n",
    "#         false_tail.grad.zero_() \n",
    "        \n",
    "#         if i%100 == 0:\n",
    "#             print(f'Iteration: {i} | Loss {l.item()}')\n",
    "\n",
    "\n",
    "\n",
    "\n",
    "\n",
    "\n",
    "\n",
    "\n",
    "\n",
    "\n",
    "# results: \n",
    "# Iteration: 0 | Loss 1.0015830993652344\n",
    "# Iteration: 100 | Loss 0.9973239898681641\n",
    "# Iteration: 200 | Loss 0.9993381500244141\n",
    "# Iteration: 300 | Loss 0.9902715682983398\n",
    "# Iteration: 400 | Loss 1.0056066513061523\n",
    "# Iteration: 500 | Loss 0.9979467391967773\n",
    "# Iteration: 600 | Loss 1.0004215240478516\n",
    "# Iteration: 700 | Loss 0.9965410232543945"
   ]
  },
  {
   "cell_type": "code",
   "execution_count": 195,
   "metadata": {},
   "outputs": [
    {
     "name": "stdout",
     "output_type": "stream",
     "text": [
      "Iteration: 0 | Loss 0.11751079559326172\n",
      "Iteration: 100 | Loss 0.11075687408447266\n",
      "Iteration: 200 | Loss 0.11855792999267578\n",
      "Iteration: 300 | Loss 0.1144418716430664\n",
      "Iteration: 400 | Loss 0.11540889739990234\n",
      "Iteration: 500 | Loss 0.11643600463867188\n",
      "Iteration: 600 | Loss 0.1112203598022461\n",
      "Iteration: 700 | Loss 0.12097930908203125\n",
      "Iteration: 800 | Loss 0.10689640045166016\n",
      "Iteration: 900 | Loss 0.11993789672851562\n",
      "Iteration: 1000 | Loss 0.1267843246459961\n",
      "Iteration: 1100 | Loss 0.09723949432373047\n",
      "Iteration: 1200 | Loss 0.11523151397705078\n",
      "Iteration: 1300 | Loss 0.1022653579711914\n",
      "Iteration: 1400 | Loss 0.10685062408447266\n",
      "Iteration: 1500 | Loss 0.11931800842285156\n",
      "Iteration: 1600 | Loss 0.11276626586914062\n",
      "Iteration: 1700 | Loss 0.12514877319335938\n",
      "Iteration: 0 | Loss 0.11346244812011719\n",
      "Iteration: 100 | Loss 0.1211404800415039\n",
      "Iteration: 200 | Loss 0.11661529541015625\n",
      "Iteration: 300 | Loss 0.11554622650146484\n",
      "Iteration: 400 | Loss 0.11117744445800781\n",
      "Iteration: 500 | Loss 0.10934638977050781\n",
      "Iteration: 600 | Loss 0.1197214126586914\n",
      "Iteration: 700 | Loss 0.10840320587158203\n"
     ]
    },
    {
     "ename": "KeyboardInterrupt",
     "evalue": "",
     "output_type": "error",
     "traceback": [
      "\u001b[1;31m---------------------------------------------------------------------------\u001b[0m",
      "\u001b[1;31mKeyboardInterrupt\u001b[0m                         Traceback (most recent call last)",
      "\u001b[1;32m<ipython-input-195-46a18571dc50>\u001b[0m in \u001b[0;36m<module>\u001b[1;34m\u001b[0m\n\u001b[0;32m     38\u001b[0m \u001b[1;31m#         false_samples.retain_grad()\u001b[0m\u001b[1;33m\u001b[0m\u001b[1;33m\u001b[0m\u001b[1;33m\u001b[0m\u001b[0m\n\u001b[0;32m     39\u001b[0m         \u001b[1;31m# calculate gradients = backward pass\u001b[0m\u001b[1;33m\u001b[0m\u001b[1;33m\u001b[0m\u001b[1;33m\u001b[0m\u001b[0m\n\u001b[1;32m---> 40\u001b[1;33m         \u001b[0ml\u001b[0m\u001b[1;33m.\u001b[0m\u001b[0mbackward\u001b[0m\u001b[1;33m(\u001b[0m\u001b[1;33m)\u001b[0m\u001b[1;33m\u001b[0m\u001b[1;33m\u001b[0m\u001b[0m\n\u001b[0m\u001b[0;32m     41\u001b[0m \u001b[1;33m\u001b[0m\u001b[0m\n\u001b[0;32m     42\u001b[0m \u001b[1;33m\u001b[0m\u001b[0m\n",
      "\u001b[1;32m~\\anaconda3\\lib\\site-packages\\torch\\_tensor.py\u001b[0m in \u001b[0;36mbackward\u001b[1;34m(self, gradient, retain_graph, create_graph, inputs)\u001b[0m\n\u001b[0;32m    305\u001b[0m                 \u001b[0mcreate_graph\u001b[0m\u001b[1;33m=\u001b[0m\u001b[0mcreate_graph\u001b[0m\u001b[1;33m,\u001b[0m\u001b[1;33m\u001b[0m\u001b[1;33m\u001b[0m\u001b[0m\n\u001b[0;32m    306\u001b[0m                 inputs=inputs)\n\u001b[1;32m--> 307\u001b[1;33m         \u001b[0mtorch\u001b[0m\u001b[1;33m.\u001b[0m\u001b[0mautograd\u001b[0m\u001b[1;33m.\u001b[0m\u001b[0mbackward\u001b[0m\u001b[1;33m(\u001b[0m\u001b[0mself\u001b[0m\u001b[1;33m,\u001b[0m \u001b[0mgradient\u001b[0m\u001b[1;33m,\u001b[0m \u001b[0mretain_graph\u001b[0m\u001b[1;33m,\u001b[0m \u001b[0mcreate_graph\u001b[0m\u001b[1;33m,\u001b[0m \u001b[0minputs\u001b[0m\u001b[1;33m=\u001b[0m\u001b[0minputs\u001b[0m\u001b[1;33m)\u001b[0m\u001b[1;33m\u001b[0m\u001b[1;33m\u001b[0m\u001b[0m\n\u001b[0m\u001b[0;32m    308\u001b[0m \u001b[1;33m\u001b[0m\u001b[0m\n\u001b[0;32m    309\u001b[0m     \u001b[1;32mdef\u001b[0m \u001b[0mregister_hook\u001b[0m\u001b[1;33m(\u001b[0m\u001b[0mself\u001b[0m\u001b[1;33m,\u001b[0m \u001b[0mhook\u001b[0m\u001b[1;33m)\u001b[0m\u001b[1;33m:\u001b[0m\u001b[1;33m\u001b[0m\u001b[1;33m\u001b[0m\u001b[0m\n",
      "\u001b[1;32m~\\anaconda3\\lib\\site-packages\\torch\\autograd\\__init__.py\u001b[0m in \u001b[0;36mbackward\u001b[1;34m(tensors, grad_tensors, retain_graph, create_graph, grad_variables, inputs)\u001b[0m\n\u001b[0;32m    154\u001b[0m     Variable._execution_engine.run_backward(\n\u001b[0;32m    155\u001b[0m         \u001b[0mtensors\u001b[0m\u001b[1;33m,\u001b[0m \u001b[0mgrad_tensors_\u001b[0m\u001b[1;33m,\u001b[0m \u001b[0mretain_graph\u001b[0m\u001b[1;33m,\u001b[0m \u001b[0mcreate_graph\u001b[0m\u001b[1;33m,\u001b[0m \u001b[0minputs\u001b[0m\u001b[1;33m,\u001b[0m\u001b[1;33m\u001b[0m\u001b[1;33m\u001b[0m\u001b[0m\n\u001b[1;32m--> 156\u001b[1;33m         allow_unreachable=True, accumulate_grad=True)  # allow_unreachable flag\n\u001b[0m\u001b[0;32m    157\u001b[0m \u001b[1;33m\u001b[0m\u001b[0m\n\u001b[0;32m    158\u001b[0m \u001b[1;33m\u001b[0m\u001b[0m\n",
      "\u001b[1;31mKeyboardInterrupt\u001b[0m: "
     ]
    }
   ],
   "source": [
    "# margin = 1, dimension d = 20000\n",
    "train_loader = DataLoader(dataset=training_data,\n",
    "                          batch_size=50,\n",
    "                          shuffle=True,\n",
    "                          num_workers=0)\n",
    "\n",
    "# convert to an iterator and look at one random sample\n",
    "dataiter = iter(train_loader)\n",
    "data = dataiter.next()\n",
    "head = data[0]\n",
    "relation = data[1]\n",
    "tail = data[2]\n",
    "false_samples = data[3:]\n",
    "# print(head, \"\\n\", relation)\n",
    "\n",
    "# # Dummy Training loop\n",
    "num_epochs = 7\n",
    "total_samples = len(training_data)\n",
    "n_iterations = math.ceil(total_samples/4)\n",
    "# print(total_samples, n_iterations)\n",
    "for epoch in range(num_epochs):\n",
    "#     for i, (inputs, labels) in enumerate(train_loader):\n",
    "    for i, data in enumerate(train_loader):\n",
    "        head = data[0]\n",
    "        relation = data[1]\n",
    "        tail = data[2]\n",
    "        false_samples = data[3:]\n",
    "        # here: 178 samples, batch_size = 4, n_iters=178/4=44.5 -> 45 iterations\n",
    "        # Run your training process\n",
    "#         print(head.data)\n",
    "        # loss\n",
    "        l = loss_func(head, relation, tail, false_samples, margin=0.1)\n",
    "#         l.retain_grad()\n",
    "        head.retain_grad()\n",
    "        relation.retain_grad()\n",
    "        tail.retain_grad()\n",
    "#         print(len(false_samples))\n",
    "#         false_samples.retain_grad() \n",
    "        # calculate gradients = backward pass\n",
    "        l.backward()\n",
    "        \n",
    "        \n",
    "        with torch.no_grad():\n",
    "            head -= 0.001 * head.grad\n",
    "            relation -= 0.001 * relation.grad\n",
    "            tail -= 0.001 * tail.grad\n",
    "#             false_head -= 0.1 * false_head.grad\n",
    "#             false_tail -= 0.1 * false_tail.grad\n",
    "            \n",
    "            # don't forget to zero the gradients\n",
    "       \n",
    "        \n",
    "        head.grad.zero_()\n",
    "        relation.grad.zero_()\n",
    "        tail.grad.zero_()\n",
    "#         false_head.grad.zero_() \n",
    "#         false_tail.grad.zero_() \n",
    "        \n",
    "        if i%100 == 0:\n",
    "            print(f'Iteration: {i} | Loss {l.item()}')\n"
   ]
  },
  {
   "cell_type": "code",
   "execution_count": 100,
   "metadata": {},
   "outputs": [],
   "source": []
  }
 ],
 "metadata": {
  "kernelspec": {
   "display_name": "Python 3",
   "language": "python",
   "name": "python3"
  },
  "language_info": {
   "codemirror_mode": {
    "name": "ipython",
    "version": 3
   },
   "file_extension": ".py",
   "mimetype": "text/x-python",
   "name": "python",
   "nbconvert_exporter": "python",
   "pygments_lexer": "ipython3",
   "version": "3.7.6"
  }
 },
 "nbformat": 4,
 "nbformat_minor": 4
}
