{
 "cells": [
  {
   "cell_type": "code",
   "execution_count": 1,
   "metadata": {},
   "outputs": [],
   "source": [
    "import math\n",
    "import torch\n",
    "import pandas as pd\n",
    "from operator import itemgetter\n",
    "import random\n",
    "from pathlib import Path\n",
    "from torch.utils.data import Dataset, DataLoader"
   ]
  },
  {
   "cell_type": "code",
   "execution_count": 462,
   "metadata": {},
   "outputs": [],
   "source": [
    "# also maybe use named_tuples to represent the (h,r,t,h',t')\n",
    "\n",
    "# if torch.cuda.is_available():  \n",
    "#   dev = \"cuda:0\" \n",
    "# else:  \n",
    "#   dev = \"cpu\"\n",
    "# convert code to use cuda in the end \n",
    "# https://medium.com/ai%C2%B3-theory-practice-business/use-gpu-in-your-pytorch-code-676a67faed09\n",
    "# torch.cuda.is_available()"
   ]
  },
  {
   "cell_type": "code",
   "execution_count": 2,
   "metadata": {},
   "outputs": [],
   "source": [
    "# possibly try using multiprocessing (as of now didn't work)\n",
    "# https://www.youtube.com/results?search_query=concurrency+python\n",
    "# https://www.realpythonproject.com/how-to-parallelize-for-loops-in-python-and-work-with-shared-dictionaries/\n",
    "\n",
    "def generate_false_samples_fast(entities_dict, sample, head_or_tail, training_data, index_start_of_relation, allow_shift):\n",
    "    '''\n",
    "    \n",
    "    '''\n",
    "    running = True\n",
    "    counter = 0\n",
    "\n",
    "    # 1 for head\n",
    "    if head_or_tail:\n",
    "        # generate false head entity\n",
    "        # to break in case our tail entity has a relation with every other entity \n",
    "        while(running):\n",
    "            unique = True\n",
    "            random_entity = random.choice(entities_dict)\n",
    "            for i in range(index_start_of_relation, len(training_data[index_start_of_relation:])):\n",
    "                if random_entity == training_data[i][0] and sample[2] == training_data[i][2]:\n",
    "                    unique = False\n",
    "                    running = False\n",
    "                    break\n",
    "                if training_data[i][1] != training_data[index_start_of_relation][1]:\n",
    "                    running = False\n",
    "                    break\n",
    "                    \n",
    "            counter += 1\n",
    "            if unique or counter == 100:\n",
    "                break\n",
    "        if allow_shift and not unique:\n",
    "            sample = generate_false_samples_fast(entities_dict, sample, 0, training_data, index_start_of_relation, False)\n",
    "\n",
    "        elif unique:\n",
    "            sample.append(random_entity)\n",
    "            sample.append(sample[2])\n",
    "        else:\n",
    "            print(\"mistake\")\n",
    "            \n",
    "    # 0 for tail\n",
    "    else:\n",
    "        # generate false tail entity\n",
    "        while(running):\n",
    "            random_entity = random.choice(entities_dict)\n",
    "            unique = True\n",
    "            for i in range(index_start_of_relation, len(training_data[index_start_of_relation:])):\n",
    "                if sample[0] == training_data[i][0] and random_entity == training_data[i][2]:\n",
    "                    unique = False\n",
    "                    running = False\n",
    "                    break\n",
    "                    \n",
    "                if training_data[i][1] != training_data[index_start_of_relation][1]:\n",
    "                    running = False\n",
    "                    break\n",
    "            counter += 1\n",
    "            if unique or counter == 100:\n",
    "                break\n",
    "        \n",
    "        if allow_shift and not unique:\n",
    "            sample = generate_false_samples_fast(entities_dict, sample, 1, training_data, index_start_of_relation, False) \n",
    "        elif unique:\n",
    "            sample.append(sample[0]) \n",
    "            sample.append(random_entity)\n",
    "        else:\n",
    "            print(\"mistake\")\n",
    "    return sample"
   ]
  },
  {
   "cell_type": "code",
   "execution_count": 3,
   "metadata": {},
   "outputs": [],
   "source": [
    "def read_triplets_file(path, header, seperator):\n",
    "    return pd.read_csv(path, header= header, sep=seperator)"
   ]
  },
  {
   "cell_type": "code",
   "execution_count": 38,
   "metadata": {},
   "outputs": [],
   "source": [
    "def read_training_data(path, header, seperator):\n",
    "    '''\n",
    "    returns a list of sorted (according to relation) training instances \n",
    "    '''\n",
    "    data = pd.read_csv(path, header=header, sep=seperator)\n",
    "    training_data = data.values.tolist()\n",
    "# #     print(training_data[0:10])\n",
    "    training_data = sorted(training_data, key=itemgetter(1)) \n",
    "    return training_data"
   ]
  },
  {
   "cell_type": "code",
   "execution_count": 42,
   "metadata": {},
   "outputs": [],
   "source": [
    "# chose the dimension to be d=20000\n",
    "def convert_to_dict(text_data):\n",
    "    output_dict = dict()\n",
    "#     torch.split(temp1, 1, dim=1)    \n",
    "    matrix=torch.rand(20000, len(text_data))\n",
    "    vectors = torch.split(matrix, 1, dim=1)\n",
    "    \n",
    "    for i in range(len(text_data)):\n",
    "#         temp = torch.reshape(vectors[i][0], (-1, 1))\n",
    "        output_dict[text_data[i]] = vectors[i]/torch.linalg.vector_norm(vectors[i])\n",
    "        output_dict[text_data[i]].requires_grad=True\n",
    "    return output_dict"
   ]
  },
  {
   "cell_type": "code",
   "execution_count": 6,
   "metadata": {},
   "outputs": [],
   "source": [
    "def false_samples_generated():\n",
    "    extended_data = Path(\"./data/wn18rr/extended_training_data.txt\")\n",
    "    return extended_data.is_file()"
   ]
  },
  {
   "cell_type": "code",
   "execution_count": 7,
   "metadata": {},
   "outputs": [],
   "source": [
    "def encoding_training_data(entity_dict, relation_dict, training_data):\n",
    "    for i in range(len(training_data)):\n",
    "        training_data[i][0] = entity_dict[training_data[i][0]]\n",
    "        training_data[i][1] = relation_dict[training_data[i][1]]\n",
    "        training_data[i][2] = entity_dict[training_data[i][2]]\n",
    "        training_data[i][3] = entity_dict[training_data[i][3]]\n",
    "        training_data[i][4] = entity_dict[training_data[i][4]]\n",
    "    return training_data"
   ]
  },
  {
   "cell_type": "code",
   "execution_count": 8,
   "metadata": {},
   "outputs": [],
   "source": [
    "def scoring_function(head, relation, tail):\n",
    "    score = - torch.linalg.vector_norm(head + relation - tail)\n",
    "    return score"
   ]
  },
  {
   "cell_type": "code",
   "execution_count": 9,
   "metadata": {},
   "outputs": [],
   "source": [
    "# sample = (h, r, t, h', t')\n",
    "def loss_func(head, relation, tail, false_head, false_tail, margin):\n",
    "    loss = max(0, margin - scoring_function(head, relation, tail) + scoring_function(false_head, relation, false_tail))\n",
    "    return loss"
   ]
  },
  {
   "cell_type": "code",
   "execution_count": null,
   "metadata": {},
   "outputs": [],
   "source": []
  },
  {
   "cell_type": "code",
   "execution_count": 35,
   "metadata": {},
   "outputs": [],
   "source": [
    "entities_temp_list = read_triplets_file('./data/wn18rr/entities.dict', header=None, seperator='\\t')[1]\n",
    "entities = convert_to_dict(entities_temp_list)"
   ]
  },
  {
   "cell_type": "code",
   "execution_count": 13,
   "metadata": {},
   "outputs": [],
   "source": [
    "# len(entities[260881])\n",
    "# entities"
   ]
  },
  {
   "cell_type": "code",
   "execution_count": 14,
   "metadata": {},
   "outputs": [],
   "source": [
    "# entities_temp_list = pd.read_csv('./data/wn18rr/entities.dict', header=None, sep='\\t')[1]\n",
    "# entities_matrix = torch.eye(len(entities_temp_list))\n",
    "# entities_vectors = torch.split(entities_matrix, 1)\n",
    "# entities = dict()\n",
    "# for i in range(len(entities_temp_list)):\n",
    "#     entities[entities_temp_list[i]] = torch.reshape(entities_vectors[i][0], (-1, 1))\n",
    "#     entities[entities_temp_list[i]].requires_grad=True"
   ]
  },
  {
   "cell_type": "code",
   "execution_count": 39,
   "metadata": {},
   "outputs": [],
   "source": [
    "relation_temp_list = read_triplets_file('./data/wn18rr/relations.dict', header=None, seperator='\\t')[1]\n",
    "relations = convert_to_dict(relation_temp_list)\n",
    "# relations"
   ]
  },
  {
   "cell_type": "code",
   "execution_count": 401,
   "metadata": {},
   "outputs": [],
   "source": [
    "# len(relations)"
   ]
  },
  {
   "cell_type": "code",
   "execution_count": 402,
   "metadata": {},
   "outputs": [],
   "source": [
    "# relation_temp_list = pd.read_csv('./data/wn18rr/relations.dict', header=None, sep='\\t')[1]\n",
    "# relation_matrix = torch.eye(len(relation_temp_list))\n",
    "# relation_vectors = torch.split(relation_matrix, 1\n",
    "# relations = dict()\n",
    "# for i in range(len(relation_temp_list)):\n",
    "#     relations[relation_temp_list[i]] = torch.reshape(relation_vectors[i][0], (-1, 1))\n",
    "#     relations[relation_temp_list[i]].requires_grad=True"
   ]
  },
  {
   "cell_type": "code",
   "execution_count": 40,
   "metadata": {},
   "outputs": [
    {
     "data": {
      "text/plain": [
       "[[1698271, '_also_see', 1754576],\n",
       " [452512, '_also_see', 1695567],\n",
       " [1718867, '_also_see', 612114],\n",
       " [631391, '_also_see', 1878466],\n",
       " [931555, '_also_see', 604617],\n",
       " [1672607, '_also_see', 485711],\n",
       " [1725712, '_also_see', 1256332],\n",
       " [1835496, '_also_see', 781000],\n",
       " [503982, '_also_see', 889831],\n",
       " [2531422, '_also_see', 1076793]]"
      ]
     },
     "execution_count": 40,
     "metadata": {},
     "output_type": "execute_result"
    }
   ],
   "source": [
    "training_data = read_training_data('./data/wn18rr/train.txt', header=None, seperator='\\t')\n",
    "training_data[0:10]"
   ]
  },
  {
   "cell_type": "code",
   "execution_count": 43,
   "metadata": {},
   "outputs": [
    {
     "name": "stdout",
     "output_type": "stream",
     "text": [
      "found file\n"
     ]
    }
   ],
   "source": [
    "if false_samples_generated():\n",
    "    print(\"found file\")\n",
    "    read_training_data = pd.read_csv('./data/wn18rr/extended_training_data.txt', header=None, sep='\\t')\n",
    "    training_data = read_training_data.values.tolist()\n",
    "else:\n",
    "    for i  in range(len(training_data)):\n",
    "        print(i)\n",
    "        if not training_data[i][1] == training_data[i-1][1]:\n",
    "            index_start_of_relation = i\n",
    "            print(\"new index: \", index_start_of_relation)\n",
    "            print(training_data[i][1])\n",
    "        head_or_tail = random.randint(0, 1)\n",
    "        training_data[i] = generate_false_samples_fast(entities_temp_list, \n",
    "                                              training_data[i], \n",
    "                                              head_or_tail, \n",
    "                                              training_data, \n",
    "                                              index_start_of_relation,\n",
    "                                              True)\n",
    "    \n",
    "    textfile = open(\"./data/wn18rr/extended_training_data.txt\", \"w\")\n",
    "    for row in training_data:\n",
    "        if len(row) == 5:\n",
    "            textfile.write(str(row[0]) + \"\\t\" + str(row[1]) + \"\\t\" + str(row[2]) + \"\\t\" + str(row[3]) +\"\\t\" + str(row[4]) + \"\\n\")\n",
    "        elif len(row) == 3:\n",
    "            textfile.write(str(row[0]) + \"\\t\" + str(row[1]) + \"\\t\" + str(row[2]) + \"\\n\")\n",
    "    textfile.close()"
   ]
  },
  {
   "cell_type": "code",
   "execution_count": 44,
   "metadata": {},
   "outputs": [
    {
     "name": "stdout",
     "output_type": "stream",
     "text": [
      "[1698271, '_also_see', 1754576, 1698271, 9559404]\n"
     ]
    }
   ],
   "source": [
    "# for i  in range(len(temp_training_data)):\n",
    "#     if not temp_training_data[i][1] == temp_training_data[i-1][1]:\n",
    "#         index_start_of_relation = i\n",
    "#         print(\"new index: \", index_start_of_relation)\n",
    "#         print(training_data[i][1])\n",
    "        \n",
    "\n",
    "# counter = 0\n",
    "# for i in training_data:\n",
    "#     if len(i) != 5:\n",
    "#         counter +=1\n",
    "# #         print(len(i))\n",
    "# print(counter)\n",
    "print(training_data[0])"
   ]
  },
  {
   "cell_type": "code",
   "execution_count": 45,
   "metadata": {},
   "outputs": [],
   "source": [
    "# we get the embeddings for (h, r, t# training_data)\n",
    "training_data = encoding_training_data(entities, relations, training_data)"
   ]
  },
  {
   "cell_type": "code",
   "execution_count": 46,
   "metadata": {},
   "outputs": [
    {
     "name": "stdout",
     "output_type": "stream",
     "text": [
      "5\n",
      "20000\n"
     ]
    }
   ],
   "source": [
    "print(len(training_data[0]))\n",
    "print(len(training_data[0][0]))\n",
    "# print(len(training_data[0][1]))\n",
    "# print(len(training_data[0][2]))\n",
    "# print(len(training_data[0][3]))\n",
    "# print(len(training_data[0][4]))\n",
    "# training_data[0]\n",
    "\n",
    "# counter = 0\n",
    "# for i in training_data:\n",
    "#     if len(i) != 5:\n",
    "#         counter +=1\n",
    "#         print(len(i))\n",
    "# print(counter)"
   ]
  },
  {
   "cell_type": "code",
   "execution_count": 47,
   "metadata": {},
   "outputs": [],
   "source": [
    "# # margin = 1, dimension d = 10000\n",
    "\n",
    "# train_loader = DataLoader(dataset=training_data,\n",
    "#                           batch_size=50,\n",
    "#                           shuffle=True,\n",
    "#                           num_workers=0)\n",
    "\n",
    "# # convert to an iterator and look at one random sample\n",
    "# dataiter = iter(train_loader)\n",
    "# data = dataiter.next()\n",
    "# head, relation, tail, false_head, false_tail = data\n",
    "# # print(head, \"\\n\", relation)\n",
    "\n",
    "# # # Dummy Training loop\n",
    "# num_epochs = 5\n",
    "# total_samples = len(training_data)\n",
    "# n_iterations = math.ceil(total_samples/4)\n",
    "# # print(total_samples, n_iterations)\n",
    "# for epoch in range(num_epochs):\n",
    "# #     for i, (inputs, labels) in enumerate(train_loader):\n",
    "#     for i, (head, relation, tail, false_head, false_tail) in enumerate(train_loader):\n",
    "        \n",
    "#         # here: 178 samples, batch_size = 4, n_iters=178/4=44.5 -> 45 iterations\n",
    "#         # Run your training process\n",
    "# #         print(head.data)\n",
    "#         # loss\n",
    "#         l = loss_func(head, relation, tail, false_head, false_tail, 1)\n",
    "# #         l.retain_grad()\n",
    "#         head.retain_grad()\n",
    "#         relation.retain_grad()\n",
    "#         tail.retain_grad()\n",
    "#         false_head.retain_grad() \n",
    "#         false_tail.retain_grad()\n",
    "#         # calculate gradients = backward pass\n",
    "#         l.backward()\n",
    "        \n",
    "        \n",
    "#         with torch.no_grad():\n",
    "#             head -= 0.1 * head.grad\n",
    "#             relation -= 0.1 * relation.grad\n",
    "#             tail -= 0.1 * tail.grad\n",
    "#             false_head -= 0.1 * false_head.grad\n",
    "#             false_tail -= 0.1 * false_tail.grad\n",
    "            \n",
    "#             # don't forget to zero the gradients\n",
    "       \n",
    "        \n",
    "#         head.grad.zero_()\n",
    "#         relation.grad.zero_()\n",
    "#         tail.grad.zero_()\n",
    "#         false_head.grad.zero_() \n",
    "#         false_tail.grad.zero_() \n",
    "        \n",
    "#         if i%100 == 0:\n",
    "#             print(f'Iteration: {i} | Loss {l.item()}')\n",
    "\n",
    "\n",
    "\n",
    "\n",
    "\n",
    "\n",
    "\n",
    "\n",
    "\n",
    "\n",
    "# results: \n",
    "# Iteration: 0 | Loss 1.0015830993652344\n",
    "# Iteration: 100 | Loss 0.9973239898681641\n",
    "# Iteration: 200 | Loss 0.9993381500244141\n",
    "# Iteration: 300 | Loss 0.9902715682983398\n",
    "# Iteration: 400 | Loss 1.0056066513061523\n",
    "# Iteration: 500 | Loss 0.9979467391967773\n",
    "# Iteration: 600 | Loss 1.0004215240478516\n",
    "# Iteration: 700 | Loss 0.9965410232543945"
   ]
  },
  {
   "cell_type": "code",
   "execution_count": null,
   "metadata": {},
   "outputs": [
    {
     "name": "stdout",
     "output_type": "stream",
     "text": [
      "Iteration: 0 | Loss 0.05202293395996094\n",
      "Iteration: 100 | Loss 0.04584026336669922\n",
      "Iteration: 200 | Loss 0.048508644104003906\n",
      "Iteration: 300 | Loss 0.07849693298339844\n",
      "Iteration: 400 | Loss 0.051293373107910156\n",
      "Iteration: 500 | Loss 0.04837322235107422\n",
      "Iteration: 600 | Loss 0.05049324035644531\n",
      "Iteration: 700 | Loss 0.04554939270019531\n"
     ]
    }
   ],
   "source": [
    "# margin = 1, dimension d = 20000\n",
    "train_loader = DataLoader(dataset=training_data,\n",
    "                          batch_size=50,\n",
    "                          shuffle=True,\n",
    "                          num_workers=0)\n",
    "\n",
    "# convert to an iterator and look at one random sample\n",
    "dataiter = iter(train_loader)\n",
    "data = dataiter.next()\n",
    "head, relation, tail, false_head, false_tail = data\n",
    "# print(head, \"\\n\", relation)\n",
    "\n",
    "# # Dummy Training loop\n",
    "num_epochs = 5\n",
    "total_samples = len(training_data)\n",
    "n_iterations = math.ceil(total_samples/4)\n",
    "# print(total_samples, n_iterations)\n",
    "for epoch in range(num_epochs):\n",
    "#     for i, (inputs, labels) in enumerate(train_loader):\n",
    "    for i, (head, relation, tail, false_head, false_tail) in enumerate(train_loader):\n",
    "        \n",
    "        # here: 178 samples, batch_size = 4, n_iters=178/4=44.5 -> 45 iterations\n",
    "        # Run your training process\n",
    "#         print(head.data)\n",
    "        # loss\n",
    "        l = loss_func(head, relation, tail, false_head, false_tail, 0.05)\n",
    "#         l.retain_grad()\n",
    "        head.retain_grad()\n",
    "        relation.retain_grad()\n",
    "        tail.retain_grad()\n",
    "        false_head.retain_grad() \n",
    "        false_tail.retain_grad()\n",
    "        # calculate gradients = backward pass\n",
    "        l.backward()\n",
    "        \n",
    "        \n",
    "        with torch.no_grad():\n",
    "            head -= 0.1 * head.grad\n",
    "            relation -= 0.1 * relation.grad\n",
    "            tail -= 0.1 * tail.grad\n",
    "            false_head -= 0.1 * false_head.grad\n",
    "            false_tail -= 0.1 * false_tail.grad\n",
    "            \n",
    "            # don't forget to zero the gradients\n",
    "       \n",
    "        \n",
    "        head.grad.zero_()\n",
    "        relation.grad.zero_()\n",
    "        tail.grad.zero_()\n",
    "        false_head.grad.zero_() \n",
    "        false_tail.grad.zero_() \n",
    "        \n",
    "        if i%100 == 0:\n",
    "            print(f'Iteration: {i} | Loss {l.item()}')\n"
   ]
  },
  {
   "cell_type": "code",
   "execution_count": null,
   "metadata": {},
   "outputs": [],
   "source": []
  }
 ],
 "metadata": {
  "kernelspec": {
   "display_name": "Python 3",
   "language": "python",
   "name": "python3"
  },
  "language_info": {
   "codemirror_mode": {
    "name": "ipython",
    "version": 3
   },
   "file_extension": ".py",
   "mimetype": "text/x-python",
   "name": "python",
   "nbconvert_exporter": "python",
   "pygments_lexer": "ipython3",
   "version": "3.7.6"
  }
 },
 "nbformat": 4,
 "nbformat_minor": 4
}
