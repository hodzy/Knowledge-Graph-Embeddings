{
 "cells": [
  {
   "cell_type": "code",
   "execution_count": 62,
   "metadata": {},
   "outputs": [],
   "source": [
    "import torch\n",
    "import pandas as pd\n",
    "from operator import itemgetter\n",
    "import random"
   ]
  },
  {
   "cell_type": "code",
   "execution_count": 32,
   "metadata": {},
   "outputs": [],
   "source": [
    "# convert code to use cuda in the end \n",
    "# torch.cuda.is_available()"
   ]
  },
  {
   "cell_type": "code",
   "execution_count": 162,
   "metadata": {},
   "outputs": [],
   "source": [
    "def generate_false_samples(entities_dict, sample, head_or_tail, training_data, index_start_of_relation):\n",
    "    '''\n",
    "    \n",
    "    '''\n",
    "    # 0 for head\n",
    "    if head_or_tail:\n",
    "        # generate false head entity\n",
    "        # to break in case our tail entity has a relation with every other entity \n",
    "        counter = 0\n",
    "        while(True):\n",
    "            unique = True\n",
    "            random_entity = random.choice(list(entities_dict.values()))\n",
    "            for i in range(index_start_of_relation, len(training_data[index_start_of_relation:])):\n",
    "                try:\n",
    "                    if torch.equal(random_entity, training_data[i][0]) and torch.equal(sample[2], training_data[i][2]):\n",
    "                        unique = False\n",
    "                        break\n",
    "                except:\n",
    "                    print(random_entity)\n",
    "                    print(index_start_of_relation)\n",
    "#                     print(\"item\", item)\n",
    "                    print(\"training data\", len(training_data))\n",
    "                counter += 1\n",
    "            if unique:\n",
    "                break\n",
    "            if counter == 10000:\n",
    "                print(\"problable mistake\")\n",
    "        sample.append(random_entity)\n",
    "        sample.append(sample[2])\n",
    "    # 1 for tail\n",
    "    else:\n",
    "        # generate false tail entity\n",
    "        counter = 0\n",
    "        while(True):\n",
    "            unique = True\n",
    "            random_entity = random.choice(list(entities_dict.values()))\n",
    "            for i in range(index_start_of_relation, len(training_data[index_start_of_relation:])):\n",
    "                if torch.equal(sample[0], training_data[i][0]) and torch.equal(random_entity, training_data[i][2]):\n",
    "                    unique = False\n",
    "                    break\n",
    "                counter += 1\n",
    "            if unique or counter == 10000:\n",
    "                break\n",
    "        sample.append(sample[0]) \n",
    "        sample.append(random_entity)\n",
    "    return sample"
   ]
  },
  {
   "cell_type": "code",
   "execution_count": 4,
   "metadata": {},
   "outputs": [],
   "source": [
    "entities_temp_list = pd.read_csv('./data/wn18rr/entities.dict', header=None, sep='\\t')[1]"
   ]
  },
  {
   "cell_type": "code",
   "execution_count": 5,
   "metadata": {},
   "outputs": [],
   "source": [
    "# entities_temp_list\n",
    "# torch.eye(len(entities_temp_list))"
   ]
  },
  {
   "cell_type": "code",
   "execution_count": 6,
   "metadata": {},
   "outputs": [],
   "source": [
    "entities_matrix = torch.eye(len(entities_temp_list))\n",
    "entities_vectors = torch.split(entities_matrix, 1)"
   ]
  },
  {
   "cell_type": "code",
   "execution_count": 7,
   "metadata": {},
   "outputs": [],
   "source": [
    "# entities_vectors\n",
    "entities = dict()"
   ]
  },
  {
   "cell_type": "code",
   "execution_count": 8,
   "metadata": {},
   "outputs": [],
   "source": [
    "for i in range(len(entities_temp_list)):\n",
    "    entities[entities_temp_list[i]] = torch.reshape(entities_vectors[i][0], (-1, 1))\n",
    "    entities[entities_temp_list[i]].requires_grad=True"
   ]
  },
  {
   "cell_type": "code",
   "execution_count": 9,
   "metadata": {},
   "outputs": [],
   "source": [
    "# entities[260881].shape"
   ]
  },
  {
   "cell_type": "code",
   "execution_count": null,
   "metadata": {},
   "outputs": [],
   "source": []
  },
  {
   "cell_type": "code",
   "execution_count": null,
   "metadata": {},
   "outputs": [],
   "source": []
  },
  {
   "cell_type": "code",
   "execution_count": 10,
   "metadata": {},
   "outputs": [],
   "source": [
    "relation_temp_list = pd.read_csv('./data/wn18rr/relations.dict', header=None, sep='\\t')[1]"
   ]
  },
  {
   "cell_type": "code",
   "execution_count": 43,
   "metadata": {},
   "outputs": [
    {
     "data": {
      "text/plain": [
       "'_hypernym'"
      ]
     },
     "execution_count": 43,
     "metadata": {},
     "output_type": "execute_result"
    }
   ],
   "source": [
    "relation_temp_list[0]"
   ]
  },
  {
   "cell_type": "code",
   "execution_count": 14,
   "metadata": {},
   "outputs": [],
   "source": [
    "relation_matrix = torch.eye(len(relation_temp_list))\n",
    "relation_vectors = torch.split(relation_matrix, 1)"
   ]
  },
  {
   "cell_type": "code",
   "execution_count": 18,
   "metadata": {},
   "outputs": [],
   "source": [
    "# relation_vectors[0][0]"
   ]
  },
  {
   "cell_type": "code",
   "execution_count": 19,
   "metadata": {},
   "outputs": [],
   "source": [
    "relations = dict()"
   ]
  },
  {
   "cell_type": "code",
   "execution_count": 20,
   "metadata": {},
   "outputs": [],
   "source": [
    "for i in range(len(relation_temp_list)):\n",
    "    relations[relation_temp_list[i]] = torch.reshape(relation_vectors[i][0], (-1, 1))\n",
    "    relations[relation_temp_list[i]].requires_grad=True\n",
    "#     print(relations[relation_temp_list[i]])\n",
    "# print(relations)"
   ]
  },
  {
   "cell_type": "code",
   "execution_count": null,
   "metadata": {},
   "outputs": [],
   "source": []
  },
  {
   "cell_type": "code",
   "execution_count": 152,
   "metadata": {},
   "outputs": [],
   "source": [
    "read_training_data = pd.read_csv('./data/wn18rr/train.txt', header=None, sep='\\t')"
   ]
  },
  {
   "cell_type": "code",
   "execution_count": 153,
   "metadata": {},
   "outputs": [],
   "source": [
    "training_data = read_training_data.values.tolist()\n",
    "training_data = sorted(training_data, key=itemgetter(1))"
   ]
  },
  {
   "cell_type": "code",
   "execution_count": 154,
   "metadata": {},
   "outputs": [],
   "source": [
    "# training_data"
   ]
  },
  {
   "cell_type": "code",
   "execution_count": 155,
   "metadata": {},
   "outputs": [],
   "source": [
    "# we get the embeddings for (h, r, t# training_data)\n",
    "for i in range(len(training_data)):\n",
    "    training_data[i][0] = entities[training_data[i][0]]\n",
    "    training_data[i][1] = relations[training_data[i][1]]\n",
    "    training_data[i][2] = entities[training_data[i][2]]\n",
    "# training_data"
   ]
  },
  {
   "cell_type": "code",
   "execution_count": 161,
   "metadata": {},
   "outputs": [],
   "source": [
    "# generate_false_samples(entities_dict, sample, head_or_tail, training_data, index_start_of_relation)\n",
    "# looks pretty inefficient\n",
    "\n",
    "# try creating a dict with the relation (adding _head or _tail to the end)\n",
    "# as the key and the values are a list with every head or tail that is associated with this relation\n",
    "\n",
    "index_start_of_relation = 0\n",
    "for i  in range(len(training_data)):\n",
    "    print(i)\n",
    "    if i > 0 and torch.equal(training_data[i][1], training_data[i-1][1]):\n",
    "        index_start_of_relation = i\n",
    "    head_or_tail = random.randint(0, 1)\n",
    "    training_data[i] = generate_false_samples(entities, training_data[i], head_or_tail, training_data, index_start_of_relation)"
   ]
  },
  {
   "cell_type": "code",
   "execution_count": 157,
   "metadata": {},
   "outputs": [
    {
     "data": {
      "text/plain": [
       "[tensor([[0.],\n",
       "         [0.],\n",
       "         [0.],\n",
       "         ...,\n",
       "         [0.],\n",
       "         [0.],\n",
       "         [0.]], requires_grad=True),\n",
       " tensor([[0.],\n",
       "         [0.],\n",
       "         [0.],\n",
       "         [1.],\n",
       "         [0.],\n",
       "         [0.],\n",
       "         [0.],\n",
       "         [0.],\n",
       "         [0.],\n",
       "         [0.],\n",
       "         [0.]], requires_grad=True),\n",
       " tensor([[0.],\n",
       "         [0.],\n",
       "         [0.],\n",
       "         ...,\n",
       "         [0.],\n",
       "         [0.],\n",
       "         [0.]], requires_grad=True),\n",
       " tensor([[0.],\n",
       "         [0.],\n",
       "         [0.],\n",
       "         ...,\n",
       "         [0.],\n",
       "         [0.],\n",
       "         [0.]], requires_grad=True),\n",
       " tensor([[0.],\n",
       "         [0.],\n",
       "         [0.],\n",
       "         ...,\n",
       "         [0.],\n",
       "         [0.],\n",
       "         [0.]], requires_grad=True)]"
      ]
     },
     "execution_count": 157,
     "metadata": {},
     "output_type": "execute_result"
    }
   ],
   "source": [
    "training_data[0]"
   ]
  },
  {
   "cell_type": "code",
   "execution_count": 158,
   "metadata": {},
   "outputs": [
    {
     "data": {
      "text/plain": [
       "86835"
      ]
     },
     "execution_count": 158,
     "metadata": {},
     "output_type": "execute_result"
    }
   ],
   "source": [
    "len(training_data)"
   ]
  },
  {
   "cell_type": "code",
   "execution_count": null,
   "metadata": {},
   "outputs": [],
   "source": []
  }
 ],
 "metadata": {
  "kernelspec": {
   "display_name": "Python 3",
   "language": "python",
   "name": "python3"
  },
  "language_info": {
   "codemirror_mode": {
    "name": "ipython",
    "version": 3
   },
   "file_extension": ".py",
   "mimetype": "text/x-python",
   "name": "python",
   "nbconvert_exporter": "python",
   "pygments_lexer": "ipython3",
   "version": "3.7.6"
  }
 },
 "nbformat": 4,
 "nbformat_minor": 4
}
